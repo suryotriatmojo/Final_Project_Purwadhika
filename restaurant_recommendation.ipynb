{
 "cells": [
  {
   "cell_type": "markdown",
   "metadata": {
    "heading_collapsed": true
   },
   "source": [
    "# [Purwadhika Final Project] - Restaurant Recommendation\n",
    "\n",
    "This project is using datasets from __[\"Restaurant Data with Consumer Ratings\"](https://www.kaggle.com/uciml/restaurant-data-with-consumer-ratings#userprofile.csv)__ provided by Kaggle.\n",
    "\n",
    "Goal: Get __Top 5 Restaurant Recommendations__ | Scope: __Content-Based Filtering Method based on User Personalities__\n",
    "\n",
    "There are 9 datasets and will be grouped like this:\n",
    "1. __User Related Datasets__\n",
    "    - userprofile.csv\n",
    "    - usercuisine.csv\n",
    "    - userpayment.csv\n",
    "2. __Restaurant Related Datasets__\n",
    "    - geoplaces2.csv\n",
    "    - chefmozcuisine.csv\n",
    "    - chefmozaccepts.csv\n",
    "    - chefmozparking.csv\n",
    "    - chefmozhours4.csv\n",
    "3. __User Rating Datasets__\n",
    "    - rating_final.csv\n",
    "    \n",
    "__*Note: In this case we will not using rating_final.csv dataset due to our scope is Content-Based Filtering*__"
   ]
  },
  {
   "cell_type": "markdown",
   "metadata": {
    "heading_collapsed": true
   },
   "source": [
    "# Exploratory Data Analysis"
   ]
  },
  {
   "cell_type": "code",
   "execution_count": 1,
   "metadata": {
    "hidden": true
   },
   "outputs": [],
   "source": [
    "# import packages\n",
    "import numpy as np\n",
    "import pandas as pd\n",
    "import matplotlib.pyplot as plt\n",
    "%matplotlib inline\n",
    "import seaborn as sns"
   ]
  },
  {
   "cell_type": "markdown",
   "metadata": {
    "heading_collapsed": true,
    "hidden": true
   },
   "source": [
    "## A) User Related Datasets"
   ]
  },
  {
   "cell_type": "markdown",
   "metadata": {
    "heading_collapsed": true,
    "hidden": true
   },
   "source": [
    "### A) 1. User Profile"
   ]
  },
  {
   "cell_type": "code",
   "execution_count": 2,
   "metadata": {
    "hidden": true,
    "scrolled": false
   },
   "outputs": [
    {
     "name": "stdout",
     "output_type": "stream",
     "text": [
      "<class 'pandas.core.frame.DataFrame'>\n",
      "RangeIndex: 138 entries, 0 to 137\n",
      "Data columns (total 19 columns):\n",
      "userID              138 non-null object\n",
      "latitude            138 non-null float64\n",
      "longitude           138 non-null float64\n",
      "smoker              138 non-null object\n",
      "drink_level         138 non-null object\n",
      "dress_preference    138 non-null object\n",
      "ambience            138 non-null object\n",
      "transport           138 non-null object\n",
      "marital_status      138 non-null object\n",
      "hijos               138 non-null object\n",
      "birth_year          138 non-null int64\n",
      "interest            138 non-null object\n",
      "personality         138 non-null object\n",
      "religion            138 non-null object\n",
      "activity            138 non-null object\n",
      "color               138 non-null object\n",
      "weight              138 non-null int64\n",
      "budget              138 non-null object\n",
      "height              138 non-null float64\n",
      "dtypes: float64(3), int64(2), object(14)\n",
      "memory usage: 20.6+ KB\n",
      "None\n"
     ]
    },
    {
     "data": {
      "text/html": [
       "<div>\n",
       "<style scoped>\n",
       "    .dataframe tbody tr th:only-of-type {\n",
       "        vertical-align: middle;\n",
       "    }\n",
       "\n",
       "    .dataframe tbody tr th {\n",
       "        vertical-align: top;\n",
       "    }\n",
       "\n",
       "    .dataframe thead th {\n",
       "        text-align: right;\n",
       "    }\n",
       "</style>\n",
       "<table border=\"1\" class=\"dataframe\">\n",
       "  <thead>\n",
       "    <tr style=\"text-align: right;\">\n",
       "      <th></th>\n",
       "      <th>userID</th>\n",
       "      <th>latitude</th>\n",
       "      <th>longitude</th>\n",
       "      <th>smoker</th>\n",
       "      <th>drink_level</th>\n",
       "      <th>dress_preference</th>\n",
       "      <th>ambience</th>\n",
       "      <th>transport</th>\n",
       "      <th>marital_status</th>\n",
       "      <th>hijos</th>\n",
       "      <th>birth_year</th>\n",
       "      <th>interest</th>\n",
       "      <th>personality</th>\n",
       "      <th>religion</th>\n",
       "      <th>activity</th>\n",
       "      <th>color</th>\n",
       "      <th>weight</th>\n",
       "      <th>budget</th>\n",
       "      <th>height</th>\n",
       "    </tr>\n",
       "  </thead>\n",
       "  <tbody>\n",
       "    <tr>\n",
       "      <th>0</th>\n",
       "      <td>U1001</td>\n",
       "      <td>22.139997</td>\n",
       "      <td>-100.978803</td>\n",
       "      <td>false</td>\n",
       "      <td>abstemious</td>\n",
       "      <td>informal</td>\n",
       "      <td>family</td>\n",
       "      <td>on foot</td>\n",
       "      <td>single</td>\n",
       "      <td>independent</td>\n",
       "      <td>1989</td>\n",
       "      <td>variety</td>\n",
       "      <td>thrifty-protector</td>\n",
       "      <td>none</td>\n",
       "      <td>student</td>\n",
       "      <td>black</td>\n",
       "      <td>69</td>\n",
       "      <td>medium</td>\n",
       "      <td>1.77</td>\n",
       "    </tr>\n",
       "    <tr>\n",
       "      <th>1</th>\n",
       "      <td>U1002</td>\n",
       "      <td>22.150087</td>\n",
       "      <td>-100.983325</td>\n",
       "      <td>false</td>\n",
       "      <td>abstemious</td>\n",
       "      <td>informal</td>\n",
       "      <td>family</td>\n",
       "      <td>public</td>\n",
       "      <td>single</td>\n",
       "      <td>independent</td>\n",
       "      <td>1990</td>\n",
       "      <td>technology</td>\n",
       "      <td>hunter-ostentatious</td>\n",
       "      <td>Catholic</td>\n",
       "      <td>student</td>\n",
       "      <td>red</td>\n",
       "      <td>40</td>\n",
       "      <td>low</td>\n",
       "      <td>1.87</td>\n",
       "    </tr>\n",
       "    <tr>\n",
       "      <th>2</th>\n",
       "      <td>U1003</td>\n",
       "      <td>22.119847</td>\n",
       "      <td>-100.946527</td>\n",
       "      <td>false</td>\n",
       "      <td>social drinker</td>\n",
       "      <td>formal</td>\n",
       "      <td>family</td>\n",
       "      <td>public</td>\n",
       "      <td>single</td>\n",
       "      <td>independent</td>\n",
       "      <td>1989</td>\n",
       "      <td>none</td>\n",
       "      <td>hard-worker</td>\n",
       "      <td>Catholic</td>\n",
       "      <td>student</td>\n",
       "      <td>blue</td>\n",
       "      <td>60</td>\n",
       "      <td>low</td>\n",
       "      <td>1.69</td>\n",
       "    </tr>\n",
       "    <tr>\n",
       "      <th>3</th>\n",
       "      <td>U1004</td>\n",
       "      <td>18.867000</td>\n",
       "      <td>-99.183000</td>\n",
       "      <td>false</td>\n",
       "      <td>abstemious</td>\n",
       "      <td>informal</td>\n",
       "      <td>family</td>\n",
       "      <td>public</td>\n",
       "      <td>single</td>\n",
       "      <td>independent</td>\n",
       "      <td>1940</td>\n",
       "      <td>variety</td>\n",
       "      <td>hard-worker</td>\n",
       "      <td>none</td>\n",
       "      <td>professional</td>\n",
       "      <td>green</td>\n",
       "      <td>44</td>\n",
       "      <td>medium</td>\n",
       "      <td>1.53</td>\n",
       "    </tr>\n",
       "    <tr>\n",
       "      <th>4</th>\n",
       "      <td>U1005</td>\n",
       "      <td>22.183477</td>\n",
       "      <td>-100.959891</td>\n",
       "      <td>false</td>\n",
       "      <td>abstemious</td>\n",
       "      <td>no preference</td>\n",
       "      <td>family</td>\n",
       "      <td>public</td>\n",
       "      <td>single</td>\n",
       "      <td>independent</td>\n",
       "      <td>1992</td>\n",
       "      <td>none</td>\n",
       "      <td>thrifty-protector</td>\n",
       "      <td>Catholic</td>\n",
       "      <td>student</td>\n",
       "      <td>black</td>\n",
       "      <td>65</td>\n",
       "      <td>medium</td>\n",
       "      <td>1.69</td>\n",
       "    </tr>\n",
       "  </tbody>\n",
       "</table>\n",
       "</div>"
      ],
      "text/plain": [
       "  userID   latitude   longitude smoker     drink_level dress_preference  \\\n",
       "0  U1001  22.139997 -100.978803  false      abstemious         informal   \n",
       "1  U1002  22.150087 -100.983325  false      abstemious         informal   \n",
       "2  U1003  22.119847 -100.946527  false  social drinker           formal   \n",
       "3  U1004  18.867000  -99.183000  false      abstemious         informal   \n",
       "4  U1005  22.183477 -100.959891  false      abstemious    no preference   \n",
       "\n",
       "  ambience transport marital_status        hijos  birth_year    interest  \\\n",
       "0   family   on foot         single  independent        1989     variety   \n",
       "1   family    public         single  independent        1990  technology   \n",
       "2   family    public         single  independent        1989        none   \n",
       "3   family    public         single  independent        1940     variety   \n",
       "4   family    public         single  independent        1992        none   \n",
       "\n",
       "           personality  religion      activity  color  weight  budget  height  \n",
       "0    thrifty-protector      none       student  black      69  medium    1.77  \n",
       "1  hunter-ostentatious  Catholic       student    red      40     low    1.87  \n",
       "2          hard-worker  Catholic       student   blue      60     low    1.69  \n",
       "3          hard-worker      none  professional  green      44  medium    1.53  \n",
       "4    thrifty-protector  Catholic       student  black      65  medium    1.69  "
      ]
     },
     "metadata": {},
     "output_type": "display_data"
    }
   ],
   "source": [
    "user_profile = pd.read_csv('datasets/userprofile.csv')\n",
    "print(user_profile.info())\n",
    "display(user_profile.head())"
   ]
  },
  {
   "cell_type": "markdown",
   "metadata": {
    "hidden": true
   },
   "source": [
    "There are __138 data observations__ and __19 feature columns__, which consist of categorical and numerical datas. And there is __no null data values__"
   ]
  },
  {
   "cell_type": "markdown",
   "metadata": {
    "hidden": true
   },
   "source": [
    "----------"
   ]
  },
  {
   "cell_type": "markdown",
   "metadata": {
    "hidden": true
   },
   "source": [
    "In order to visualize 19 features, I'd like to make function to generate all categorical and numerical data (Features choosen manually) and make the visualization automatically."
   ]
  },
  {
   "cell_type": "code",
   "execution_count": 3,
   "metadata": {
    "hidden": true,
    "scrolled": true
   },
   "outputs": [],
   "source": [
    "# make visualization function\n",
    "kolom_user_profile = user_profile.columns\n",
    "def visualisasi_user_profile(i):\n",
    "    if kolom_user_profile[i] == 'birth_year' or kolom_user_profile[i] == 'weight' or kolom_user_profile[i] == 'height':\n",
    "        plt.hist(user_profile[kolom_user_profile[i]])\n",
    "        plt.title('User ' + kolom_user_profile[i] + ' distribution')\n",
    "    else:\n",
    "        temp1 = user_profile[kolom_user_profile[i]].value_counts().reset_index()\n",
    "        temp1.columns = [kolom_user_profile[i], 'number']\n",
    "\n",
    "        plt.pie(\n",
    "            temp1['number'],\n",
    "            labels = temp1[kolom_user_profile[i]],\n",
    "            autopct = '%1.1f%%',\n",
    "#             startangle=90\n",
    "        )\n",
    "        plt.title('User ' + kolom_user_profile[i] + ' composition')"
   ]
  },
  {
   "cell_type": "code",
   "execution_count": 4,
   "metadata": {
    "hidden": true,
    "scrolled": false
   },
   "outputs": [
    {
     "data": {
      "image/png": "[encoded data removed]",
      "text/plain": [
       "<Figure size 1440x2160 with 16 Axes>"
      ]
     },
     "metadata": {
      "needs_background": "light"
     },
     "output_type": "display_data"
    }
   ],
   "source": [
    "# call visualization function\n",
    "fig1 = plt.figure('User Profile', figsize = (20, 30))\n",
    "for i in range(3 , len(kolom_user_profile)):\n",
    "    plt.subplot(6,3,i-2)\n",
    "    visualisasi_user_profile(i)\n",
    "    \n",
    "plt.show()"
   ]
  },
  {
   "cell_type": "markdown",
   "metadata": {
    "hidden": true
   },
   "source": [
    "By looking above charts, we know that despite of null values, the dataset is consisting several '?' values in some features which considerably that users doesn't want to share their preferences on survey. I'd like to keep the '?' values as it is"
   ]
  },
  {
   "cell_type": "markdown",
   "metadata": {
    "hidden": true
   },
   "source": [
    "---"
   ]
  },
  {
   "cell_type": "markdown",
   "metadata": {
    "hidden": true
   },
   "source": [
    "From Distribution (Histogram) graph, I'd like to check is there any __outlier__ or not using __Boxplot Diagram__.\n",
    "\n",
    "And later on will be decided if this outlier should be removed or not."
   ]
  },
  {
   "cell_type": "code",
   "execution_count": 5,
   "metadata": {
    "hidden": true
   },
   "outputs": [
    {
     "data": {
      "image/png": "[encoded data removed]",
      "text/plain": [
       "<Figure size 1440x360 with 3 Axes>"
      ]
     },
     "metadata": {
      "needs_background": "light"
     },
     "output_type": "display_data"
    }
   ],
   "source": [
    "fig2 = plt.figure('Boxplot', figsize = (20,5))\n",
    "plt.subplot(131)\n",
    "sns.boxplot(user_profile['birth_year'])\n",
    "plt.subplot(132)\n",
    "sns.boxplot(user_profile['weight'])\n",
    "plt.subplot(133)\n",
    "sns.boxplot(user_profile['height']);"
   ]
  },
  {
   "cell_type": "markdown",
   "metadata": {
    "heading_collapsed": true,
    "hidden": true
   },
   "source": [
    "### A) 2. User Cuisine"
   ]
  },
  {
   "cell_type": "code",
   "execution_count": 6,
   "metadata": {
    "hidden": true,
    "scrolled": false
   },
   "outputs": [
    {
     "name": "stdout",
     "output_type": "stream",
     "text": [
      "<class 'pandas.core.frame.DataFrame'>\n",
      "RangeIndex: 330 entries, 0 to 329\n",
      "Data columns (total 2 columns):\n",
      "userID      330 non-null object\n",
      "Rcuisine    330 non-null object\n",
      "dtypes: object(2)\n",
      "memory usage: 5.2+ KB\n",
      "None\n"
     ]
    },
    {
     "data": {
      "text/html": [
       "<div>\n",
       "<style scoped>\n",
       "    .dataframe tbody tr th:only-of-type {\n",
       "        vertical-align: middle;\n",
       "    }\n",
       "\n",
       "    .dataframe tbody tr th {\n",
       "        vertical-align: top;\n",
       "    }\n",
       "\n",
       "    .dataframe thead th {\n",
       "        text-align: right;\n",
       "    }\n",
       "</style>\n",
       "<table border=\"1\" class=\"dataframe\">\n",
       "  <thead>\n",
       "    <tr style=\"text-align: right;\">\n",
       "      <th></th>\n",
       "      <th>userID</th>\n",
       "      <th>Rcuisine</th>\n",
       "    </tr>\n",
       "  </thead>\n",
       "  <tbody>\n",
       "    <tr>\n",
       "      <th>0</th>\n",
       "      <td>U1001</td>\n",
       "      <td>American</td>\n",
       "    </tr>\n",
       "    <tr>\n",
       "      <th>1</th>\n",
       "      <td>U1002</td>\n",
       "      <td>Mexican</td>\n",
       "    </tr>\n",
       "    <tr>\n",
       "      <th>2</th>\n",
       "      <td>U1003</td>\n",
       "      <td>Mexican</td>\n",
       "    </tr>\n",
       "    <tr>\n",
       "      <th>3</th>\n",
       "      <td>U1004</td>\n",
       "      <td>Bakery</td>\n",
       "    </tr>\n",
       "    <tr>\n",
       "      <th>4</th>\n",
       "      <td>U1004</td>\n",
       "      <td>Breakfast-Brunch</td>\n",
       "    </tr>\n",
       "  </tbody>\n",
       "</table>\n",
       "</div>"
      ],
      "text/plain": [
       "  userID          Rcuisine\n",
       "0  U1001          American\n",
       "1  U1002           Mexican\n",
       "2  U1003           Mexican\n",
       "3  U1004            Bakery\n",
       "4  U1004  Breakfast-Brunch"
      ]
     },
     "metadata": {},
     "output_type": "display_data"
    }
   ],
   "source": [
    "user_cuisine = pd.read_csv('datasets/usercuisine.csv')\n",
    "print(user_cuisine.info())\n",
    "display(user_cuisine.head())"
   ]
  },
  {
   "cell_type": "markdown",
   "metadata": {
    "hidden": true
   },
   "source": [
    "There are __330 data observations__ and __2 feature columns__. And there is __no null data values__"
   ]
  },
  {
   "cell_type": "code",
   "execution_count": 7,
   "metadata": {
    "hidden": true
   },
   "outputs": [
    {
     "name": "stdout",
     "output_type": "stream",
     "text": [
      "Total user = 138\n",
      "Total type of user-cuisine preferences = 103\n"
     ]
    }
   ],
   "source": [
    "print('Total user = {}'.format(user_cuisine['userID'].nunique()))\n",
    "print('Total type of user-cuisine preferences = {}'.format(len(user_cuisine['Rcuisine'].value_counts())))"
   ]
  },
  {
   "cell_type": "code",
   "execution_count": 8,
   "metadata": {
    "hidden": true,
    "scrolled": false
   },
   "outputs": [
    {
     "data": {
      "image/png": "[encoded data removed]",
      "text/plain": [
       "<Figure size 432x288 with 1 Axes>"
      ]
     },
     "metadata": {
      "needs_background": "light"
     },
     "output_type": "display_data"
    }
   ],
   "source": [
    "temp2 = user_cuisine['Rcuisine'].value_counts().reset_index().head(10)\n",
    "temp2.columns = ['Rcuisine', 'number']\n",
    "\n",
    "sns.barplot(data = temp2, x = 'Rcuisine', y = 'number')\n",
    "plt.title('Top 10 User Cuisine Preferences')\n",
    "plt.xlabel('Restaurant Cuisine')\n",
    "plt.ylabel('Number of Users')\n",
    "plt.xticks(rotation = 90);"
   ]
  },
  {
   "cell_type": "markdown",
   "metadata": {
    "heading_collapsed": true,
    "hidden": true
   },
   "source": [
    "### A) 3. User Payment"
   ]
  },
  {
   "cell_type": "code",
   "execution_count": 9,
   "metadata": {
    "hidden": true
   },
   "outputs": [
    {
     "name": "stdout",
     "output_type": "stream",
     "text": [
      "<class 'pandas.core.frame.DataFrame'>\n",
      "RangeIndex: 177 entries, 0 to 176\n",
      "Data columns (total 2 columns):\n",
      "userID      177 non-null object\n",
      "Upayment    177 non-null object\n",
      "dtypes: object(2)\n",
      "memory usage: 2.8+ KB\n",
      "None\n"
     ]
    },
    {
     "data": {
      "text/html": [
       "<div>\n",
       "<style scoped>\n",
       "    .dataframe tbody tr th:only-of-type {\n",
       "        vertical-align: middle;\n",
       "    }\n",
       "\n",
       "    .dataframe tbody tr th {\n",
       "        vertical-align: top;\n",
       "    }\n",
       "\n",
       "    .dataframe thead th {\n",
       "        text-align: right;\n",
       "    }\n",
       "</style>\n",
       "<table border=\"1\" class=\"dataframe\">\n",
       "  <thead>\n",
       "    <tr style=\"text-align: right;\">\n",
       "      <th></th>\n",
       "      <th>userID</th>\n",
       "      <th>Upayment</th>\n",
       "    </tr>\n",
       "  </thead>\n",
       "  <tbody>\n",
       "    <tr>\n",
       "      <th>0</th>\n",
       "      <td>U1001</td>\n",
       "      <td>cash</td>\n",
       "    </tr>\n",
       "    <tr>\n",
       "      <th>1</th>\n",
       "      <td>U1002</td>\n",
       "      <td>cash</td>\n",
       "    </tr>\n",
       "    <tr>\n",
       "      <th>2</th>\n",
       "      <td>U1003</td>\n",
       "      <td>cash</td>\n",
       "    </tr>\n",
       "    <tr>\n",
       "      <th>3</th>\n",
       "      <td>U1004</td>\n",
       "      <td>cash</td>\n",
       "    </tr>\n",
       "    <tr>\n",
       "      <th>4</th>\n",
       "      <td>U1004</td>\n",
       "      <td>bank_debit_cards</td>\n",
       "    </tr>\n",
       "  </tbody>\n",
       "</table>\n",
       "</div>"
      ],
      "text/plain": [
       "  userID          Upayment\n",
       "0  U1001              cash\n",
       "1  U1002              cash\n",
       "2  U1003              cash\n",
       "3  U1004              cash\n",
       "4  U1004  bank_debit_cards"
      ]
     },
     "metadata": {},
     "output_type": "display_data"
    }
   ],
   "source": [
    "user_payment = pd.read_csv('datasets/userpayment.csv')\n",
    "print(user_payment.info())\n",
    "display(user_payment.head())"
   ]
  },
  {
   "cell_type": "markdown",
   "metadata": {
    "hidden": true
   },
   "source": [
    "There are __177 data observations__ and __2 feature columns__. And there is __no null data values__"
   ]
  },
  {
   "cell_type": "code",
   "execution_count": 10,
   "metadata": {
    "hidden": true
   },
   "outputs": [
    {
     "name": "stdout",
     "output_type": "stream",
     "text": [
      "Total user = 133\n",
      "Total type of user payment preference = 5\n"
     ]
    }
   ],
   "source": [
    "print('Total user = {}'.format(user_payment['userID'].nunique()))\n",
    "print('Total type of user payment preference = {}'.format(len(user_payment['Upayment'].value_counts())))"
   ]
  },
  {
   "cell_type": "code",
   "execution_count": 11,
   "metadata": {
    "hidden": true
   },
   "outputs": [
    {
     "data": {
      "image/png": "[encoded data removed]",
      "text/plain": [
       "<Figure size 432x288 with 1 Axes>"
      ]
     },
     "metadata": {},
     "output_type": "display_data"
    }
   ],
   "source": [
    "temp3 = user_payment['Upayment'].value_counts().reset_index()\n",
    "temp3.columns = ['Upayment', 'number']\n",
    "\n",
    "plt.pie(\n",
    "    temp3['number'],\n",
    "    labels = temp3['Upayment'],\n",
    "    autopct = '%1.1f%%'\n",
    ")\n",
    "plt.title('User Payment composition');"
   ]
  },
  {
   "cell_type": "markdown",
   "metadata": {
    "heading_collapsed": true,
    "hidden": true
   },
   "source": [
    "## B) Restaurant Related Datasets"
   ]
  },
  {
   "cell_type": "markdown",
   "metadata": {
    "heading_collapsed": true,
    "hidden": true
   },
   "source": [
    "### B) 1. Restaurant Profile"
   ]
  },
  {
   "cell_type": "code",
   "execution_count": 12,
   "metadata": {
    "hidden": true
   },
   "outputs": [
    {
     "name": "stdout",
     "output_type": "stream",
     "text": [
      "<class 'pandas.core.frame.DataFrame'>\n",
      "RangeIndex: 130 entries, 0 to 129\n",
      "Data columns (total 21 columns):\n",
      "placeID           130 non-null int64\n",
      "latitude          130 non-null float64\n",
      "longitude         130 non-null float64\n",
      "the_geom_meter    130 non-null object\n",
      "name              130 non-null object\n",
      "address           130 non-null object\n",
      "city              130 non-null object\n",
      "state             130 non-null object\n",
      "country           130 non-null object\n",
      "fax               130 non-null object\n",
      "zip               130 non-null object\n",
      "alcohol           130 non-null object\n",
      "smoking_area      130 non-null object\n",
      "dress_code        130 non-null object\n",
      "accessibility     130 non-null object\n",
      "price             130 non-null object\n",
      "url               130 non-null object\n",
      "Rambience         130 non-null object\n",
      "franchise         130 non-null object\n",
      "area              130 non-null object\n",
      "other_services    130 non-null object\n",
      "dtypes: float64(2), int64(1), object(18)\n",
      "memory usage: 21.4+ KB\n",
      "None\n"
     ]
    },
    {
     "data": {
      "text/html": [
       "<div>\n",
       "<style scoped>\n",
       "    .dataframe tbody tr th:only-of-type {\n",
       "        vertical-align: middle;\n",
       "    }\n",
       "\n",
       "    .dataframe tbody tr th {\n",
       "        vertical-align: top;\n",
       "    }\n",
       "\n",
       "    .dataframe thead th {\n",
       "        text-align: right;\n",
       "    }\n",
       "</style>\n",
       "<table border=\"1\" class=\"dataframe\">\n",
       "  <thead>\n",
       "    <tr style=\"text-align: right;\">\n",
       "      <th></th>\n",
       "      <th>placeID</th>\n",
       "      <th>latitude</th>\n",
       "      <th>longitude</th>\n",
       "      <th>the_geom_meter</th>\n",
       "      <th>name</th>\n",
       "      <th>address</th>\n",
       "      <th>city</th>\n",
       "      <th>state</th>\n",
       "      <th>country</th>\n",
       "      <th>fax</th>\n",
       "      <th>...</th>\n",
       "      <th>alcohol</th>\n",
       "      <th>smoking_area</th>\n",
       "      <th>dress_code</th>\n",
       "      <th>accessibility</th>\n",
       "      <th>price</th>\n",
       "      <th>url</th>\n",
       "      <th>Rambience</th>\n",
       "      <th>franchise</th>\n",
       "      <th>area</th>\n",
       "      <th>other_services</th>\n",
       "    </tr>\n",
       "  </thead>\n",
       "  <tbody>\n",
       "    <tr>\n",
       "      <th>0</th>\n",
       "      <td>134999</td>\n",
       "      <td>18.915421</td>\n",
       "      <td>-99.184871</td>\n",
       "      <td>0101000020957F000088568DE356715AC138C0A525FC46...</td>\n",
       "      <td>Kiku Cuernavaca</td>\n",
       "      <td>Revolucion</td>\n",
       "      <td>Cuernavaca</td>\n",
       "      <td>Morelos</td>\n",
       "      <td>Mexico</td>\n",
       "      <td>?</td>\n",
       "      <td>...</td>\n",
       "      <td>No_Alcohol_Served</td>\n",
       "      <td>none</td>\n",
       "      <td>informal</td>\n",
       "      <td>no_accessibility</td>\n",
       "      <td>medium</td>\n",
       "      <td>kikucuernavaca.com.mx</td>\n",
       "      <td>familiar</td>\n",
       "      <td>f</td>\n",
       "      <td>closed</td>\n",
       "      <td>none</td>\n",
       "    </tr>\n",
       "    <tr>\n",
       "      <th>1</th>\n",
       "      <td>132825</td>\n",
       "      <td>22.147392</td>\n",
       "      <td>-100.983092</td>\n",
       "      <td>0101000020957F00001AD016568C4858C1243261274BA5...</td>\n",
       "      <td>puesto de tacos</td>\n",
       "      <td>esquina santos degollado y leon guzman</td>\n",
       "      <td>s.l.p.</td>\n",
       "      <td>s.l.p.</td>\n",
       "      <td>mexico</td>\n",
       "      <td>?</td>\n",
       "      <td>...</td>\n",
       "      <td>No_Alcohol_Served</td>\n",
       "      <td>none</td>\n",
       "      <td>informal</td>\n",
       "      <td>completely</td>\n",
       "      <td>low</td>\n",
       "      <td>?</td>\n",
       "      <td>familiar</td>\n",
       "      <td>f</td>\n",
       "      <td>open</td>\n",
       "      <td>none</td>\n",
       "    </tr>\n",
       "    <tr>\n",
       "      <th>2</th>\n",
       "      <td>135106</td>\n",
       "      <td>22.149709</td>\n",
       "      <td>-100.976093</td>\n",
       "      <td>0101000020957F0000649D6F21634858C119AE9BF528A3...</td>\n",
       "      <td>El Rinc�n de San Francisco</td>\n",
       "      <td>Universidad 169</td>\n",
       "      <td>San Luis Potosi</td>\n",
       "      <td>San Luis Potosi</td>\n",
       "      <td>Mexico</td>\n",
       "      <td>?</td>\n",
       "      <td>...</td>\n",
       "      <td>Wine-Beer</td>\n",
       "      <td>only at bar</td>\n",
       "      <td>informal</td>\n",
       "      <td>partially</td>\n",
       "      <td>medium</td>\n",
       "      <td>?</td>\n",
       "      <td>familiar</td>\n",
       "      <td>f</td>\n",
       "      <td>open</td>\n",
       "      <td>none</td>\n",
       "    </tr>\n",
       "    <tr>\n",
       "      <th>3</th>\n",
       "      <td>132667</td>\n",
       "      <td>23.752697</td>\n",
       "      <td>-99.163359</td>\n",
       "      <td>0101000020957F00005D67BCDDED8157C1222A2DC8D84D...</td>\n",
       "      <td>little pizza Emilio Portes Gil</td>\n",
       "      <td>calle emilio portes gil</td>\n",
       "      <td>victoria</td>\n",
       "      <td>tamaulipas</td>\n",
       "      <td>?</td>\n",
       "      <td>?</td>\n",
       "      <td>...</td>\n",
       "      <td>No_Alcohol_Served</td>\n",
       "      <td>none</td>\n",
       "      <td>informal</td>\n",
       "      <td>completely</td>\n",
       "      <td>low</td>\n",
       "      <td>?</td>\n",
       "      <td>familiar</td>\n",
       "      <td>t</td>\n",
       "      <td>closed</td>\n",
       "      <td>none</td>\n",
       "    </tr>\n",
       "    <tr>\n",
       "      <th>4</th>\n",
       "      <td>132613</td>\n",
       "      <td>23.752903</td>\n",
       "      <td>-99.165076</td>\n",
       "      <td>0101000020957F00008EBA2D06DC8157C194E03B7B504E...</td>\n",
       "      <td>carnitas_mata</td>\n",
       "      <td>lic. Emilio portes gil</td>\n",
       "      <td>victoria</td>\n",
       "      <td>Tamaulipas</td>\n",
       "      <td>Mexico</td>\n",
       "      <td>?</td>\n",
       "      <td>...</td>\n",
       "      <td>No_Alcohol_Served</td>\n",
       "      <td>permitted</td>\n",
       "      <td>informal</td>\n",
       "      <td>completely</td>\n",
       "      <td>medium</td>\n",
       "      <td>?</td>\n",
       "      <td>familiar</td>\n",
       "      <td>t</td>\n",
       "      <td>closed</td>\n",
       "      <td>none</td>\n",
       "    </tr>\n",
       "  </tbody>\n",
       "</table>\n",
       "<p>5 rows × 21 columns</p>\n",
       "</div>"
      ],
      "text/plain": [
       "   placeID   latitude   longitude  \\\n",
       "0   134999  18.915421  -99.184871   \n",
       "1   132825  22.147392 -100.983092   \n",
       "2   135106  22.149709 -100.976093   \n",
       "3   132667  23.752697  -99.163359   \n",
       "4   132613  23.752903  -99.165076   \n",
       "\n",
       "                                      the_geom_meter  \\\n",
       "0  0101000020957F000088568DE356715AC138C0A525FC46...   \n",
       "1  0101000020957F00001AD016568C4858C1243261274BA5...   \n",
       "2  0101000020957F0000649D6F21634858C119AE9BF528A3...   \n",
       "3  0101000020957F00005D67BCDDED8157C1222A2DC8D84D...   \n",
       "4  0101000020957F00008EBA2D06DC8157C194E03B7B504E...   \n",
       "\n",
       "                             name                                 address  \\\n",
       "0                 Kiku Cuernavaca                              Revolucion   \n",
       "1                 puesto de tacos  esquina santos degollado y leon guzman   \n",
       "2      El Rinc�n de San Francisco                         Universidad 169   \n",
       "3  little pizza Emilio Portes Gil                 calle emilio portes gil   \n",
       "4                   carnitas_mata                  lic. Emilio portes gil   \n",
       "\n",
       "              city            state country fax  ...            alcohol  \\\n",
       "0       Cuernavaca          Morelos  Mexico   ?  ...  No_Alcohol_Served   \n",
       "1           s.l.p.           s.l.p.  mexico   ?  ...  No_Alcohol_Served   \n",
       "2  San Luis Potosi  San Luis Potosi  Mexico   ?  ...          Wine-Beer   \n",
       "3        victoria        tamaulipas       ?   ?  ...  No_Alcohol_Served   \n",
       "4         victoria       Tamaulipas  Mexico   ?  ...  No_Alcohol_Served   \n",
       "\n",
       "  smoking_area dress_code     accessibility   price                    url  \\\n",
       "0         none   informal  no_accessibility  medium  kikucuernavaca.com.mx   \n",
       "1         none   informal        completely     low                      ?   \n",
       "2  only at bar   informal         partially  medium                      ?   \n",
       "3         none   informal        completely     low                      ?   \n",
       "4    permitted   informal        completely  medium                      ?   \n",
       "\n",
       "  Rambience franchise    area other_services  \n",
       "0  familiar         f  closed           none  \n",
       "1  familiar         f    open           none  \n",
       "2  familiar         f    open           none  \n",
       "3  familiar         t  closed           none  \n",
       "4  familiar         t  closed           none  \n",
       "\n",
       "[5 rows x 21 columns]"
      ]
     },
     "metadata": {},
     "output_type": "display_data"
    }
   ],
   "source": [
    "resto_profile = pd.read_csv('datasets/geoplaces2.csv')\n",
    "print(resto_profile.info())\n",
    "display(resto_profile.head())"
   ]
  },
  {
   "cell_type": "markdown",
   "metadata": {
    "hidden": true
   },
   "source": [
    "There are __130 data observations__ and __21 feature columns__, which consist of categorical datas. And there is __no null data values__"
   ]
  },
  {
   "cell_type": "markdown",
   "metadata": {
    "hidden": true
   },
   "source": [
    "---"
   ]
  },
  {
   "cell_type": "markdown",
   "metadata": {
    "hidden": true
   },
   "source": [
    "If we take a look at the dataset, despite of consist of null values, the datasets actually have so much '?' values. On top of that, I consider to eliminate several column features that looks like will be not useful for learning"
   ]
  },
  {
   "cell_type": "code",
   "execution_count": 13,
   "metadata": {
    "hidden": true
   },
   "outputs": [
    {
     "data": {
      "text/html": [
       "<div>\n",
       "<style scoped>\n",
       "    .dataframe tbody tr th:only-of-type {\n",
       "        vertical-align: middle;\n",
       "    }\n",
       "\n",
       "    .dataframe tbody tr th {\n",
       "        vertical-align: top;\n",
       "    }\n",
       "\n",
       "    .dataframe thead th {\n",
       "        text-align: right;\n",
       "    }\n",
       "</style>\n",
       "<table border=\"1\" class=\"dataframe\">\n",
       "  <thead>\n",
       "    <tr style=\"text-align: right;\">\n",
       "      <th></th>\n",
       "      <th>placeID</th>\n",
       "      <th>latitude</th>\n",
       "      <th>longitude</th>\n",
       "      <th>name</th>\n",
       "      <th>address</th>\n",
       "      <th>city</th>\n",
       "      <th>state</th>\n",
       "      <th>country</th>\n",
       "      <th>alcohol</th>\n",
       "      <th>smoking_area</th>\n",
       "      <th>dress_code</th>\n",
       "      <th>accessibility</th>\n",
       "      <th>price</th>\n",
       "      <th>Rambience</th>\n",
       "      <th>franchise</th>\n",
       "      <th>area</th>\n",
       "      <th>other_services</th>\n",
       "    </tr>\n",
       "  </thead>\n",
       "  <tbody>\n",
       "    <tr>\n",
       "      <th>0</th>\n",
       "      <td>134999</td>\n",
       "      <td>18.915421</td>\n",
       "      <td>-99.184871</td>\n",
       "      <td>Kiku Cuernavaca</td>\n",
       "      <td>Revolucion</td>\n",
       "      <td>Cuernavaca</td>\n",
       "      <td>Morelos</td>\n",
       "      <td>Mexico</td>\n",
       "      <td>No_Alcohol_Served</td>\n",
       "      <td>none</td>\n",
       "      <td>informal</td>\n",
       "      <td>no_accessibility</td>\n",
       "      <td>medium</td>\n",
       "      <td>familiar</td>\n",
       "      <td>f</td>\n",
       "      <td>closed</td>\n",
       "      <td>none</td>\n",
       "    </tr>\n",
       "    <tr>\n",
       "      <th>1</th>\n",
       "      <td>132825</td>\n",
       "      <td>22.147392</td>\n",
       "      <td>-100.983092</td>\n",
       "      <td>puesto de tacos</td>\n",
       "      <td>esquina santos degollado y leon guzman</td>\n",
       "      <td>s.l.p.</td>\n",
       "      <td>s.l.p.</td>\n",
       "      <td>mexico</td>\n",
       "      <td>No_Alcohol_Served</td>\n",
       "      <td>none</td>\n",
       "      <td>informal</td>\n",
       "      <td>completely</td>\n",
       "      <td>low</td>\n",
       "      <td>familiar</td>\n",
       "      <td>f</td>\n",
       "      <td>open</td>\n",
       "      <td>none</td>\n",
       "    </tr>\n",
       "    <tr>\n",
       "      <th>2</th>\n",
       "      <td>135106</td>\n",
       "      <td>22.149709</td>\n",
       "      <td>-100.976093</td>\n",
       "      <td>El Rinc�n de San Francisco</td>\n",
       "      <td>Universidad 169</td>\n",
       "      <td>San Luis Potosi</td>\n",
       "      <td>San Luis Potosi</td>\n",
       "      <td>Mexico</td>\n",
       "      <td>Wine-Beer</td>\n",
       "      <td>only at bar</td>\n",
       "      <td>informal</td>\n",
       "      <td>partially</td>\n",
       "      <td>medium</td>\n",
       "      <td>familiar</td>\n",
       "      <td>f</td>\n",
       "      <td>open</td>\n",
       "      <td>none</td>\n",
       "    </tr>\n",
       "    <tr>\n",
       "      <th>3</th>\n",
       "      <td>132667</td>\n",
       "      <td>23.752697</td>\n",
       "      <td>-99.163359</td>\n",
       "      <td>little pizza Emilio Portes Gil</td>\n",
       "      <td>calle emilio portes gil</td>\n",
       "      <td>victoria</td>\n",
       "      <td>tamaulipas</td>\n",
       "      <td>?</td>\n",
       "      <td>No_Alcohol_Served</td>\n",
       "      <td>none</td>\n",
       "      <td>informal</td>\n",
       "      <td>completely</td>\n",
       "      <td>low</td>\n",
       "      <td>familiar</td>\n",
       "      <td>t</td>\n",
       "      <td>closed</td>\n",
       "      <td>none</td>\n",
       "    </tr>\n",
       "    <tr>\n",
       "      <th>4</th>\n",
       "      <td>132613</td>\n",
       "      <td>23.752903</td>\n",
       "      <td>-99.165076</td>\n",
       "      <td>carnitas_mata</td>\n",
       "      <td>lic. Emilio portes gil</td>\n",
       "      <td>victoria</td>\n",
       "      <td>Tamaulipas</td>\n",
       "      <td>Mexico</td>\n",
       "      <td>No_Alcohol_Served</td>\n",
       "      <td>permitted</td>\n",
       "      <td>informal</td>\n",
       "      <td>completely</td>\n",
       "      <td>medium</td>\n",
       "      <td>familiar</td>\n",
       "      <td>t</td>\n",
       "      <td>closed</td>\n",
       "      <td>none</td>\n",
       "    </tr>\n",
       "  </tbody>\n",
       "</table>\n",
       "</div>"
      ],
      "text/plain": [
       "   placeID   latitude   longitude                            name  \\\n",
       "0   134999  18.915421  -99.184871                 Kiku Cuernavaca   \n",
       "1   132825  22.147392 -100.983092                 puesto de tacos   \n",
       "2   135106  22.149709 -100.976093      El Rinc�n de San Francisco   \n",
       "3   132667  23.752697  -99.163359  little pizza Emilio Portes Gil   \n",
       "4   132613  23.752903  -99.165076                   carnitas_mata   \n",
       "\n",
       "                                  address             city            state  \\\n",
       "0                              Revolucion       Cuernavaca          Morelos   \n",
       "1  esquina santos degollado y leon guzman           s.l.p.           s.l.p.   \n",
       "2                         Universidad 169  San Luis Potosi  San Luis Potosi   \n",
       "3                 calle emilio portes gil        victoria        tamaulipas   \n",
       "4                  lic. Emilio portes gil         victoria       Tamaulipas   \n",
       "\n",
       "  country            alcohol smoking_area dress_code     accessibility  \\\n",
       "0  Mexico  No_Alcohol_Served         none   informal  no_accessibility   \n",
       "1  mexico  No_Alcohol_Served         none   informal        completely   \n",
       "2  Mexico          Wine-Beer  only at bar   informal         partially   \n",
       "3       ?  No_Alcohol_Served         none   informal        completely   \n",
       "4  Mexico  No_Alcohol_Served    permitted   informal        completely   \n",
       "\n",
       "    price Rambience franchise    area other_services  \n",
       "0  medium  familiar         f  closed           none  \n",
       "1     low  familiar         f    open           none  \n",
       "2  medium  familiar         f    open           none  \n",
       "3     low  familiar         t  closed           none  \n",
       "4  medium  familiar         t  closed           none  "
      ]
     },
     "metadata": {},
     "output_type": "display_data"
    }
   ],
   "source": [
    "resto_profile = resto_profile.drop(['the_geom_meter', 'fax', 'zip', 'url'], axis=1)\n",
    "display(resto_profile.head())"
   ]
  },
  {
   "cell_type": "markdown",
   "metadata": {
    "hidden": true
   },
   "source": [
    "---"
   ]
  },
  {
   "cell_type": "markdown",
   "metadata": {
    "hidden": true
   },
   "source": [
    "And if we take a look more deeper, actually we have several duplicate values considerably which have different string characters. I'd like to simplify the datasets by merging the duplicate values"
   ]
  },
  {
   "cell_type": "code",
   "execution_count": 14,
   "metadata": {
    "hidden": true
   },
   "outputs": [
    {
     "data": {
      "text/plain": [
       "San Luis Potosi    92\n",
       "Cuernavaca         16\n",
       "Ciudad Victoria    16\n",
       "Jiutepec            4\n",
       "Soledad             2\n",
       "Name: city, dtype: int64"
      ]
     },
     "execution_count": 14,
     "metadata": {},
     "output_type": "execute_result"
    }
   ],
   "source": [
    "resto_profile['city'] = resto_profile['city'].replace(\n",
    "    ('san luis potosi', 'san luis potosi ', 'san luis potos', 's.l.p.', 's.l.p', 'slp', '?'),\n",
    "    'San Luis Potosi'\n",
    ")\n",
    "resto_profile['city'] = resto_profile['city'].replace(\n",
    "    'cuernavaca',\n",
    "    'Cuernavaca'\n",
    ")\n",
    "resto_profile['city'] = resto_profile['city'].replace(\n",
    "    ('victoria', 'victoria ', 'Cd Victoria', 'Cd. Victoria'),\n",
    "    'Ciudad Victoria'\n",
    ")\n",
    "resto_profile['city'].value_counts()"
   ]
  },
  {
   "cell_type": "code",
   "execution_count": 15,
   "metadata": {
    "hidden": true
   },
   "outputs": [
    {
     "data": {
      "text/plain": [
       "San Luis Potosi    92\n",
       "Morelos            20\n",
       "Tamaulipas         16\n",
       "Mexico              2\n",
       "Name: state, dtype: int64"
      ]
     },
     "execution_count": 15,
     "metadata": {},
     "output_type": "execute_result"
    }
   ],
   "source": [
    "resto_profile['state'] = resto_profile['state'].replace(\n",
    "    ('SLP', 'san luis potosi', 'slp', 'S.L.P.', 'san luis potos', 's.l.p.', '?'),\n",
    "    'San Luis Potosi'\n",
    ")\n",
    "resto_profile['state'] = resto_profile['state'].replace(\n",
    "    'morelos',\n",
    "    'Morelos'\n",
    ")\n",
    "resto_profile['state'] = resto_profile['state'].replace(\n",
    "    'tamaulipas',\n",
    "    'Tamaulipas'\n",
    ")\n",
    "resto_profile['state'] = resto_profile['state'].replace(\n",
    "    'mexico',\n",
    "    'Mexico'\n",
    ")\n",
    "resto_profile['state'].value_counts()"
   ]
  },
  {
   "cell_type": "code",
   "execution_count": 16,
   "metadata": {
    "hidden": true,
    "scrolled": true
   },
   "outputs": [
    {
     "data": {
      "text/plain": [
       "Mexico    130\n",
       "Name: country, dtype: int64"
      ]
     },
     "execution_count": 16,
     "metadata": {},
     "output_type": "execute_result"
    }
   ],
   "source": [
    "resto_profile['country'] = resto_profile['country'].replace(\n",
    "    ('mexico', '?'),\n",
    "    'Mexico'\n",
    ")\n",
    "resto_profile['country'].value_counts()"
   ]
  },
  {
   "cell_type": "markdown",
   "metadata": {
    "hidden": true
   },
   "source": [
    "---"
   ]
  },
  {
   "cell_type": "markdown",
   "metadata": {
    "hidden": true
   },
   "source": [
    "Similar like user profile method, in order to visualize 21 feature columns, I'd like to make function to generate all categorical data (Features choose manually) and make the visualization automatically."
   ]
  },
  {
   "cell_type": "code",
   "execution_count": 17,
   "metadata": {
    "hidden": true
   },
   "outputs": [],
   "source": [
    "# make visualization function\n",
    "kolom_resto_profile = resto_profile.columns\n",
    "def visualisasi_resto_profile(i):\n",
    "    temp = resto_profile[kolom_resto_profile[i]].value_counts().reset_index()\n",
    "    temp.columns = [kolom_resto_profile[i], 'number']\n",
    "\n",
    "    plt.pie(\n",
    "        temp['number'],\n",
    "        labels = temp[kolom_resto_profile[i]],\n",
    "        autopct = '%1.1f%%',\n",
    "#         startangle=90\n",
    "    )\n",
    "    plt.title('Resto ' + kolom_resto_profile[i] + ' composition')"
   ]
  },
  {
   "cell_type": "code",
   "execution_count": 18,
   "metadata": {
    "hidden": true
   },
   "outputs": [
    {
     "data": {
      "image/png": "[encoded data removed]",
      "text/plain": [
       "<Figure size 1152x1152 with 12 Axes>"
      ]
     },
     "metadata": {},
     "output_type": "display_data"
    }
   ],
   "source": [
    "# call visualization function\n",
    "fig = plt.figure('Resto Profile', figsize = (16, 16))\n",
    "for i in range(5 , len(kolom_resto_profile)):\n",
    "    plt.subplot(4,3,i-4)\n",
    "    visualisasi_resto_profile(i)\n",
    "    \n",
    "plt.show()"
   ]
  },
  {
   "cell_type": "code",
   "execution_count": 19,
   "metadata": {
    "hidden": true
   },
   "outputs": [],
   "source": [
    "import csv\n",
    "resto_profile.to_csv('datasets/resto_profile.csv', index = False)"
   ]
  },
  {
   "cell_type": "markdown",
   "metadata": {
    "heading_collapsed": true,
    "hidden": true
   },
   "source": [
    "### B) 2. Restaurant Cuisine"
   ]
  },
  {
   "cell_type": "code",
   "execution_count": 20,
   "metadata": {
    "hidden": true,
    "scrolled": false
   },
   "outputs": [
    {
     "name": "stdout",
     "output_type": "stream",
     "text": [
      "<class 'pandas.core.frame.DataFrame'>\n",
      "RangeIndex: 916 entries, 0 to 915\n",
      "Data columns (total 2 columns):\n",
      "placeID     916 non-null int64\n",
      "Rcuisine    916 non-null object\n",
      "dtypes: int64(1), object(1)\n",
      "memory usage: 14.4+ KB\n",
      "None\n"
     ]
    },
    {
     "data": {
      "text/html": [
       "<div>\n",
       "<style scoped>\n",
       "    .dataframe tbody tr th:only-of-type {\n",
       "        vertical-align: middle;\n",
       "    }\n",
       "\n",
       "    .dataframe tbody tr th {\n",
       "        vertical-align: top;\n",
       "    }\n",
       "\n",
       "    .dataframe thead th {\n",
       "        text-align: right;\n",
       "    }\n",
       "</style>\n",
       "<table border=\"1\" class=\"dataframe\">\n",
       "  <thead>\n",
       "    <tr style=\"text-align: right;\">\n",
       "      <th></th>\n",
       "      <th>placeID</th>\n",
       "      <th>Rcuisine</th>\n",
       "    </tr>\n",
       "  </thead>\n",
       "  <tbody>\n",
       "    <tr>\n",
       "      <th>0</th>\n",
       "      <td>135110</td>\n",
       "      <td>Spanish</td>\n",
       "    </tr>\n",
       "    <tr>\n",
       "      <th>1</th>\n",
       "      <td>135109</td>\n",
       "      <td>Italian</td>\n",
       "    </tr>\n",
       "    <tr>\n",
       "      <th>2</th>\n",
       "      <td>135107</td>\n",
       "      <td>Latin_American</td>\n",
       "    </tr>\n",
       "    <tr>\n",
       "      <th>3</th>\n",
       "      <td>135106</td>\n",
       "      <td>Mexican</td>\n",
       "    </tr>\n",
       "    <tr>\n",
       "      <th>4</th>\n",
       "      <td>135105</td>\n",
       "      <td>Fast_Food</td>\n",
       "    </tr>\n",
       "  </tbody>\n",
       "</table>\n",
       "</div>"
      ],
      "text/plain": [
       "   placeID        Rcuisine\n",
       "0   135110         Spanish\n",
       "1   135109         Italian\n",
       "2   135107  Latin_American\n",
       "3   135106         Mexican\n",
       "4   135105       Fast_Food"
      ]
     },
     "metadata": {},
     "output_type": "display_data"
    }
   ],
   "source": [
    "cuisine = pd.read_csv('datasets/chefmozcuisine.csv')\n",
    "print(cuisine.info())\n",
    "display(cuisine.head())"
   ]
  },
  {
   "cell_type": "markdown",
   "metadata": {
    "hidden": true
   },
   "source": [
    "There are __916 data observations__ and __2 feature columns__. And there is __no null data values__"
   ]
  },
  {
   "cell_type": "code",
   "execution_count": 21,
   "metadata": {
    "hidden": true
   },
   "outputs": [
    {
     "name": "stdout",
     "output_type": "stream",
     "text": [
      "Total restaurant = 769\n",
      "Total type of resto cuisine = 59\n"
     ]
    }
   ],
   "source": [
    "print('Total restaurant = {}'.format(cuisine['placeID'].nunique()))\n",
    "print('Total type of resto cuisine = {}'.format(len(cuisine['Rcuisine'].value_counts())))"
   ]
  },
  {
   "cell_type": "code",
   "execution_count": 22,
   "metadata": {
    "hidden": true
   },
   "outputs": [
    {
     "data": {
      "image/png": "[encoded data removed]",
      "text/plain": [
       "<Figure size 432x288 with 1 Axes>"
      ]
     },
     "metadata": {
      "needs_background": "light"
     },
     "output_type": "display_data"
    }
   ],
   "source": [
    "temp4 = cuisine['Rcuisine'].value_counts().reset_index().head(10)\n",
    "temp4.columns = ['Rcuisine', 'number']\n",
    "\n",
    "sns.barplot(data = temp4, x = 'Rcuisine', y = 'number')\n",
    "plt.title('Top 10 Restaurants Cuisine in Mexico')\n",
    "plt.xlabel('Type of Restaurant')\n",
    "plt.xticks(rotation = 90);"
   ]
  },
  {
   "cell_type": "markdown",
   "metadata": {
    "heading_collapsed": true,
    "hidden": true
   },
   "source": [
    "### B) 3. Restaurant Payment Acceptance"
   ]
  },
  {
   "cell_type": "code",
   "execution_count": 23,
   "metadata": {
    "hidden": true
   },
   "outputs": [
    {
     "name": "stdout",
     "output_type": "stream",
     "text": [
      "<class 'pandas.core.frame.DataFrame'>\n",
      "RangeIndex: 1314 entries, 0 to 1313\n",
      "Data columns (total 2 columns):\n",
      "placeID     1314 non-null int64\n",
      "Rpayment    1314 non-null object\n",
      "dtypes: int64(1), object(1)\n",
      "memory usage: 20.6+ KB\n",
      "None\n"
     ]
    },
    {
     "data": {
      "text/html": [
       "<div>\n",
       "<style scoped>\n",
       "    .dataframe tbody tr th:only-of-type {\n",
       "        vertical-align: middle;\n",
       "    }\n",
       "\n",
       "    .dataframe tbody tr th {\n",
       "        vertical-align: top;\n",
       "    }\n",
       "\n",
       "    .dataframe thead th {\n",
       "        text-align: right;\n",
       "    }\n",
       "</style>\n",
       "<table border=\"1\" class=\"dataframe\">\n",
       "  <thead>\n",
       "    <tr style=\"text-align: right;\">\n",
       "      <th></th>\n",
       "      <th>placeID</th>\n",
       "      <th>Rpayment</th>\n",
       "    </tr>\n",
       "  </thead>\n",
       "  <tbody>\n",
       "    <tr>\n",
       "      <th>0</th>\n",
       "      <td>135110</td>\n",
       "      <td>cash</td>\n",
       "    </tr>\n",
       "    <tr>\n",
       "      <th>1</th>\n",
       "      <td>135110</td>\n",
       "      <td>VISA</td>\n",
       "    </tr>\n",
       "    <tr>\n",
       "      <th>2</th>\n",
       "      <td>135110</td>\n",
       "      <td>MasterCard-Eurocard</td>\n",
       "    </tr>\n",
       "    <tr>\n",
       "      <th>3</th>\n",
       "      <td>135110</td>\n",
       "      <td>American_Express</td>\n",
       "    </tr>\n",
       "    <tr>\n",
       "      <th>4</th>\n",
       "      <td>135110</td>\n",
       "      <td>bank_debit_cards</td>\n",
       "    </tr>\n",
       "  </tbody>\n",
       "</table>\n",
       "</div>"
      ],
      "text/plain": [
       "   placeID             Rpayment\n",
       "0   135110                 cash\n",
       "1   135110                 VISA\n",
       "2   135110  MasterCard-Eurocard\n",
       "3   135110     American_Express\n",
       "4   135110     bank_debit_cards"
      ]
     },
     "metadata": {},
     "output_type": "display_data"
    }
   ],
   "source": [
    "accept = pd.read_csv('datasets/chefmozaccepts.csv')\n",
    "print(accept.info())\n",
    "display(accept.head())"
   ]
  },
  {
   "cell_type": "markdown",
   "metadata": {
    "hidden": true
   },
   "source": [
    "There are __1314 data observations__ and __2 feature columns__. And there is __no null data values__"
   ]
  },
  {
   "cell_type": "code",
   "execution_count": 24,
   "metadata": {
    "hidden": true
   },
   "outputs": [
    {
     "name": "stdout",
     "output_type": "stream",
     "text": [
      "Total restaurant = 615\n",
      "Total type of resto payment acceptance = 12\n"
     ]
    }
   ],
   "source": [
    "print('Total restaurant = {}'.format(accept['placeID'].nunique()))\n",
    "print('Total type of resto payment acceptance = {}'.format(len(accept['Rpayment'].value_counts())))"
   ]
  },
  {
   "cell_type": "code",
   "execution_count": 25,
   "metadata": {
    "hidden": true,
    "scrolled": false
   },
   "outputs": [
    {
     "data": {
      "image/png": "[encoded data removed]",
      "text/plain": [
       "<Figure size 1080x360 with 2 Axes>"
      ]
     },
     "metadata": {},
     "output_type": "display_data"
    }
   ],
   "source": [
    "temp5 = accept['Rpayment'].value_counts().reset_index()\n",
    "temp5.columns = ['Rpayment', 'number']\n",
    "\n",
    "fig3 = plt.figure('Payment Comparison', figsize=(15,5))\n",
    "\n",
    "plt.subplot(121)\n",
    "plt.pie(\n",
    "    temp5['number'],\n",
    "#     labels = temp5['Rpayment'],\n",
    "    autopct = '%1.1f%%',\n",
    "    startangle=90\n",
    ")\n",
    "plt.title('Restaurant Payment Acceptance composition')\n",
    "plt.legend(labels = temp5['Rpayment'], loc = 'lower right', bbox_to_anchor=(0,0.2))\n",
    "\n",
    "plt.subplot(122)\n",
    "plt.pie(\n",
    "    temp3['number'],\n",
    "#     labels = temp3['Upayment'],\n",
    "    autopct = '%1.1f%%',\n",
    "    colors= ['#1f77b4', '#8C6AB7', '#529D3E', '#EE8537', '#C63932']\n",
    ")\n",
    "plt.title('User Payment composition')\n",
    "plt.legend(labels = temp3['Upayment'], loc = 'lower right', bbox_to_anchor=(1.5,0.5))\n",
    "plt.tight_layout;"
   ]
  },
  {
   "cell_type": "markdown",
   "metadata": {
    "heading_collapsed": true,
    "hidden": true
   },
   "source": [
    "### B) 4. Restaurant Parking Lot Facility"
   ]
  },
  {
   "cell_type": "code",
   "execution_count": 26,
   "metadata": {
    "hidden": true
   },
   "outputs": [
    {
     "name": "stdout",
     "output_type": "stream",
     "text": [
      "<class 'pandas.core.frame.DataFrame'>\n",
      "RangeIndex: 702 entries, 0 to 701\n",
      "Data columns (total 2 columns):\n",
      "placeID        702 non-null int64\n",
      "parking_lot    702 non-null object\n",
      "dtypes: int64(1), object(1)\n",
      "memory usage: 11.0+ KB\n",
      "None\n"
     ]
    },
    {
     "data": {
      "text/html": [
       "<div>\n",
       "<style scoped>\n",
       "    .dataframe tbody tr th:only-of-type {\n",
       "        vertical-align: middle;\n",
       "    }\n",
       "\n",
       "    .dataframe tbody tr th {\n",
       "        vertical-align: top;\n",
       "    }\n",
       "\n",
       "    .dataframe thead th {\n",
       "        text-align: right;\n",
       "    }\n",
       "</style>\n",
       "<table border=\"1\" class=\"dataframe\">\n",
       "  <thead>\n",
       "    <tr style=\"text-align: right;\">\n",
       "      <th></th>\n",
       "      <th>placeID</th>\n",
       "      <th>parking_lot</th>\n",
       "    </tr>\n",
       "  </thead>\n",
       "  <tbody>\n",
       "    <tr>\n",
       "      <th>0</th>\n",
       "      <td>135111</td>\n",
       "      <td>public</td>\n",
       "    </tr>\n",
       "    <tr>\n",
       "      <th>1</th>\n",
       "      <td>135110</td>\n",
       "      <td>none</td>\n",
       "    </tr>\n",
       "    <tr>\n",
       "      <th>2</th>\n",
       "      <td>135109</td>\n",
       "      <td>none</td>\n",
       "    </tr>\n",
       "    <tr>\n",
       "      <th>3</th>\n",
       "      <td>135108</td>\n",
       "      <td>none</td>\n",
       "    </tr>\n",
       "    <tr>\n",
       "      <th>4</th>\n",
       "      <td>135107</td>\n",
       "      <td>none</td>\n",
       "    </tr>\n",
       "  </tbody>\n",
       "</table>\n",
       "</div>"
      ],
      "text/plain": [
       "   placeID parking_lot\n",
       "0   135111      public\n",
       "1   135110        none\n",
       "2   135109        none\n",
       "3   135108        none\n",
       "4   135107        none"
      ]
     },
     "metadata": {},
     "output_type": "display_data"
    }
   ],
   "source": [
    "park = pd.read_csv('datasets/chefmozparking.csv')\n",
    "print(park.info())\n",
    "display(park.head())"
   ]
  },
  {
   "cell_type": "markdown",
   "metadata": {
    "hidden": true
   },
   "source": [
    "There are __702 data observations__ and __2 feature columns__. And there is __no null data values__"
   ]
  },
  {
   "cell_type": "code",
   "execution_count": 27,
   "metadata": {
    "hidden": true
   },
   "outputs": [
    {
     "name": "stdout",
     "output_type": "stream",
     "text": [
      "Total restaurant = 675\n",
      "Total type of resto parking facilities = 7\n"
     ]
    }
   ],
   "source": [
    "print('Total restaurant = {}'.format(park['placeID'].nunique()))\n",
    "print('Total type of resto parking facilities = {}'.format(len(park['parking_lot'].value_counts())))"
   ]
  },
  {
   "cell_type": "code",
   "execution_count": 28,
   "metadata": {
    "hidden": true
   },
   "outputs": [
    {
     "data": {
      "image/png": "[encoded data removed]",
      "text/plain": [
       "<Figure size 432x288 with 1 Axes>"
      ]
     },
     "metadata": {},
     "output_type": "display_data"
    }
   ],
   "source": [
    "temp6 = park['parking_lot'].value_counts().reset_index()\n",
    "temp6.columns = ['parking_lot', 'number']\n",
    "\n",
    "plt.pie(\n",
    "    temp6['number'],\n",
    "#     labels = temp6['parking_lot'],\n",
    "    autopct = '%1.1f%%',\n",
    "    startangle=90\n",
    ")\n",
    "plt.title('Restaurant Parking Lot Facility composition')\n",
    "plt.legend(labels = temp6['parking_lot'], loc = 'lower right', bbox_to_anchor=(0,0.2));"
   ]
  },
  {
   "cell_type": "markdown",
   "metadata": {
    "hidden": true
   },
   "source": [
    "### B) 5. Restaurant Open Days"
   ]
  },
  {
   "cell_type": "code",
   "execution_count": 29,
   "metadata": {
    "hidden": true
   },
   "outputs": [
    {
     "name": "stdout",
     "output_type": "stream",
     "text": [
      "<class 'pandas.core.frame.DataFrame'>\n",
      "RangeIndex: 2339 entries, 0 to 2338\n",
      "Data columns (total 3 columns):\n",
      "placeID    2339 non-null int64\n",
      "hours      2339 non-null object\n",
      "days       2339 non-null object\n",
      "dtypes: int64(1), object(2)\n",
      "memory usage: 54.9+ KB\n",
      "None\n"
     ]
    },
    {
     "data": {
      "text/html": [
       "<div>\n",
       "<style scoped>\n",
       "    .dataframe tbody tr th:only-of-type {\n",
       "        vertical-align: middle;\n",
       "    }\n",
       "\n",
       "    .dataframe tbody tr th {\n",
       "        vertical-align: top;\n",
       "    }\n",
       "\n",
       "    .dataframe thead th {\n",
       "        text-align: right;\n",
       "    }\n",
       "</style>\n",
       "<table border=\"1\" class=\"dataframe\">\n",
       "  <thead>\n",
       "    <tr style=\"text-align: right;\">\n",
       "      <th></th>\n",
       "      <th>placeID</th>\n",
       "      <th>hours</th>\n",
       "      <th>days</th>\n",
       "    </tr>\n",
       "  </thead>\n",
       "  <tbody>\n",
       "    <tr>\n",
       "      <th>0</th>\n",
       "      <td>135111</td>\n",
       "      <td>00:00-23:30;</td>\n",
       "      <td>Mon;Tue;Wed;Thu;Fri;</td>\n",
       "    </tr>\n",
       "    <tr>\n",
       "      <th>1</th>\n",
       "      <td>135111</td>\n",
       "      <td>00:00-23:30;</td>\n",
       "      <td>Sat;</td>\n",
       "    </tr>\n",
       "    <tr>\n",
       "      <th>2</th>\n",
       "      <td>135111</td>\n",
       "      <td>00:00-23:30;</td>\n",
       "      <td>Sun;</td>\n",
       "    </tr>\n",
       "    <tr>\n",
       "      <th>3</th>\n",
       "      <td>135110</td>\n",
       "      <td>08:00-19:00;</td>\n",
       "      <td>Mon;Tue;Wed;Thu;Fri;</td>\n",
       "    </tr>\n",
       "    <tr>\n",
       "      <th>4</th>\n",
       "      <td>135110</td>\n",
       "      <td>00:00-00:00;</td>\n",
       "      <td>Sat;</td>\n",
       "    </tr>\n",
       "  </tbody>\n",
       "</table>\n",
       "</div>"
      ],
      "text/plain": [
       "   placeID         hours                  days\n",
       "0   135111  00:00-23:30;  Mon;Tue;Wed;Thu;Fri;\n",
       "1   135111  00:00-23:30;                  Sat;\n",
       "2   135111  00:00-23:30;                  Sun;\n",
       "3   135110  08:00-19:00;  Mon;Tue;Wed;Thu;Fri;\n",
       "4   135110  00:00-00:00;                  Sat;"
      ]
     },
     "metadata": {},
     "output_type": "display_data"
    }
   ],
   "source": [
    "day = pd.read_csv('datasets/chefmozhours4.csv')\n",
    "print(day.info())\n",
    "display(day.head())"
   ]
  },
  {
   "cell_type": "markdown",
   "metadata": {
    "hidden": true
   },
   "source": [
    "There are __2.339 data observations__ and __2 feature columns__. And there is __no null data values__"
   ]
  },
  {
   "cell_type": "code",
   "execution_count": 30,
   "metadata": {
    "hidden": true
   },
   "outputs": [
    {
     "name": "stdout",
     "output_type": "stream",
     "text": [
      "Total restaurant = 694\n",
      "Total type of resto open hours = 273\n",
      "Total type of resto open days = 3\n"
     ]
    }
   ],
   "source": [
    "print('Total restaurant = {}'.format(day['placeID'].nunique()))\n",
    "print('Total type of resto open hours = {}'.format(len(day['hours'].value_counts())))\n",
    "print('Total type of resto open days = {}'.format(len(day['days'].value_counts())))"
   ]
  },
  {
   "cell_type": "code",
   "execution_count": 31,
   "metadata": {
    "hidden": true
   },
   "outputs": [
    {
     "name": "stdout",
     "output_type": "stream",
     "text": [
      "Total restaurant = 694\n",
      "Total type of resto open hours = 273\n",
      "Total type of resto open days = 3\n"
     ]
    }
   ],
   "source": [
    "print('Total restaurant = {}'.format(day['placeID'].nunique()))\n",
    "print('Total type of resto open hours = {}'.format(len(day['hours'].value_counts())))\n",
    "print('Total type of resto open days = {}'.format(len(day['days'].value_counts())))"
   ]
  },
  {
   "cell_type": "markdown",
   "metadata": {
    "hidden": true
   },
   "source": [
    "Due to hours have 273 categorical and there are some duplicate values then we need to clean it "
   ]
  },
  {
   "cell_type": "code",
   "execution_count": 32,
   "metadata": {
    "hidden": true
   },
   "outputs": [],
   "source": [
    "day = day.drop(['hours'], axis = 1)\n",
    "day = day.drop_duplicates()"
   ]
  },
  {
   "cell_type": "code",
   "execution_count": 33,
   "metadata": {
    "hidden": true
   },
   "outputs": [
    {
     "data": {
      "text/html": [
       "<div>\n",
       "<style scoped>\n",
       "    .dataframe tbody tr th:only-of-type {\n",
       "        vertical-align: middle;\n",
       "    }\n",
       "\n",
       "    .dataframe tbody tr th {\n",
       "        vertical-align: top;\n",
       "    }\n",
       "\n",
       "    .dataframe thead th {\n",
       "        text-align: right;\n",
       "    }\n",
       "</style>\n",
       "<table border=\"1\" class=\"dataframe\">\n",
       "  <thead>\n",
       "    <tr style=\"text-align: right;\">\n",
       "      <th></th>\n",
       "      <th>placeID</th>\n",
       "    </tr>\n",
       "    <tr>\n",
       "      <th>days</th>\n",
       "      <th></th>\n",
       "    </tr>\n",
       "  </thead>\n",
       "  <tbody>\n",
       "    <tr>\n",
       "      <th>Mon;Tue;Wed;Thu;Fri;</th>\n",
       "      <td>692</td>\n",
       "    </tr>\n",
       "    <tr>\n",
       "      <th>Sat;</th>\n",
       "      <td>689</td>\n",
       "    </tr>\n",
       "    <tr>\n",
       "      <th>Sun;</th>\n",
       "      <td>680</td>\n",
       "    </tr>\n",
       "  </tbody>\n",
       "</table>\n",
       "</div>"
      ],
      "text/plain": [
       "                      placeID\n",
       "days                         \n",
       "Mon;Tue;Wed;Thu;Fri;      692\n",
       "Sat;                      689\n",
       "Sun;                      680"
      ]
     },
     "execution_count": 33,
     "metadata": {},
     "output_type": "execute_result"
    }
   ],
   "source": [
    "day = day.groupby(['days']).count()\n",
    "day"
   ]
  },
  {
   "cell_type": "code",
   "execution_count": 34,
   "metadata": {
    "hidden": true
   },
   "outputs": [
    {
     "data": {
      "image/png": "[encoded data removed]",
      "text/plain": [
       "<Figure size 432x288 with 1 Axes>"
      ]
     },
     "metadata": {
      "needs_background": "light"
     },
     "output_type": "display_data"
    }
   ],
   "source": [
    "sns.barplot(day.index, day['placeID'])\n",
    "plt.title('Restaurant Open Days');"
   ]
  },
  {
   "cell_type": "markdown",
   "metadata": {
    "hidden": true
   },
   "source": [
    "By above chart we know that almost all restaurant in Mexico have open Days everyday"
   ]
  },
  {
   "cell_type": "code",
   "execution_count": 35,
   "metadata": {
    "hidden": true
   },
   "outputs": [],
   "source": [
    "# var_x = []\n",
    "# for i in range(len(day['hours'])):\n",
    "#     simpan = day['hours'][i].replace(':', '-').replace(';', '-').split('-')\n",
    "# #     print(simpan)\n",
    "#     ubah = []\n",
    "#     for j in range(len(simpan)):\n",
    "#         if j == len(simpan) - 1:\n",
    "#             pass\n",
    "#         else:\n",
    "#             ubah.append(int(simpan[j]))\n",
    "        \n",
    "#         if j == 2:\n",
    "#             if ubah[j] == 0:\n",
    "#                 ubah[j] = 24\n",
    "#             else:\n",
    "#                 ubah[j] = ubah[j]\n",
    "                \n",
    "# #     var_x.append(ubah)\n",
    "# #     print(ubah[0])\n",
    "# #     day['open'][i] = ubah[0]\n",
    "# # print(var_x)\n",
    "    \n",
    "#     if ubah[0] < 12:\n",
    "#         day['open'][i] = 'Morning'\n",
    "#     if ubah[0] < 17:\n",
    "#         day['open'][i] = 'Afternoon'\n",
    "#     if ubah[0] <= 24:\n",
    "#         day['open'][i] = 'Night'\n",
    "\n",
    "#     if ubah[2] < 12:\n",
    "#         day['close'][i] = 'morning'\n",
    "#     if ubah[2] < 17:\n",
    "#         day['close'] = 'Afternoon'\n",
    "#     if ubah[2] <= 24:\n",
    "#         day['close'] = 'Night'\n",
    "        \n",
    "    \n",
    "# #     if ubah[0] <= 12 and ubah[2] >= 22:\n",
    "# #         hour['kategori'][i] = 'Full Day'\n",
    "# #     elif ubah[0] >= 16 and ubah[2] <= 24:\n",
    "# #         hour['kategori'][i] = 'After Office Hour'\n",
    "# #     elif ubah[0] < 16 and ubah[2] <= 24:\n",
    "# #         hour['kategori'][i] = 'Lunch Till Drop'\n",
    "# #     else:\n",
    "# #         hour['kategori'][i] = 'Mid-night Wake-up'"
   ]
  },
  {
   "cell_type": "code",
   "execution_count": 56,
   "metadata": {
    "hidden": true
   },
   "outputs": [
    {
     "name": "stdout",
     "output_type": "stream",
     "text": [
      "<class 'pandas.core.frame.DataFrame'>\n",
      "RangeIndex: 1161 entries, 0 to 1160\n",
      "Data columns (total 5 columns):\n",
      "userID            1161 non-null object\n",
      "placeID           1161 non-null int64\n",
      "rating            1161 non-null int64\n",
      "food_rating       1161 non-null int64\n",
      "service_rating    1161 non-null int64\n",
      "dtypes: int64(4), object(1)\n",
      "memory usage: 45.4+ KB\n",
      "None\n"
     ]
    },
    {
     "data": {
      "text/html": [
       "<div>\n",
       "<style scoped>\n",
       "    .dataframe tbody tr th:only-of-type {\n",
       "        vertical-align: middle;\n",
       "    }\n",
       "\n",
       "    .dataframe tbody tr th {\n",
       "        vertical-align: top;\n",
       "    }\n",
       "\n",
       "    .dataframe thead th {\n",
       "        text-align: right;\n",
       "    }\n",
       "</style>\n",
       "<table border=\"1\" class=\"dataframe\">\n",
       "  <thead>\n",
       "    <tr style=\"text-align: right;\">\n",
       "      <th></th>\n",
       "      <th>userID</th>\n",
       "      <th>placeID</th>\n",
       "      <th>rating</th>\n",
       "      <th>food_rating</th>\n",
       "      <th>service_rating</th>\n",
       "    </tr>\n",
       "  </thead>\n",
       "  <tbody>\n",
       "    <tr>\n",
       "      <th>0</th>\n",
       "      <td>U1077</td>\n",
       "      <td>135085</td>\n",
       "      <td>2</td>\n",
       "      <td>2</td>\n",
       "      <td>2</td>\n",
       "    </tr>\n",
       "    <tr>\n",
       "      <th>1</th>\n",
       "      <td>U1077</td>\n",
       "      <td>135038</td>\n",
       "      <td>2</td>\n",
       "      <td>2</td>\n",
       "      <td>1</td>\n",
       "    </tr>\n",
       "    <tr>\n",
       "      <th>2</th>\n",
       "      <td>U1077</td>\n",
       "      <td>132825</td>\n",
       "      <td>2</td>\n",
       "      <td>2</td>\n",
       "      <td>2</td>\n",
       "    </tr>\n",
       "    <tr>\n",
       "      <th>3</th>\n",
       "      <td>U1077</td>\n",
       "      <td>135060</td>\n",
       "      <td>1</td>\n",
       "      <td>2</td>\n",
       "      <td>2</td>\n",
       "    </tr>\n",
       "    <tr>\n",
       "      <th>4</th>\n",
       "      <td>U1068</td>\n",
       "      <td>135104</td>\n",
       "      <td>1</td>\n",
       "      <td>1</td>\n",
       "      <td>2</td>\n",
       "    </tr>\n",
       "  </tbody>\n",
       "</table>\n",
       "</div>"
      ],
      "text/plain": [
       "  userID  placeID  rating  food_rating  service_rating\n",
       "0  U1077   135085       2            2               2\n",
       "1  U1077   135038       2            2               1\n",
       "2  U1077   132825       2            2               2\n",
       "3  U1077   135060       1            2               2\n",
       "4  U1068   135104       1            1               2"
      ]
     },
     "metadata": {},
     "output_type": "display_data"
    }
   ],
   "source": [
    "rating = pd.read_csv('datasets/rating_final.csv')\n",
    "print(rating.info())\n",
    "display(rating.head())"
   ]
  },
  {
   "cell_type": "markdown",
   "metadata": {
    "heading_collapsed": true
   },
   "source": [
    "# Content Based-Filtering with Cosine Similarity"
   ]
  },
  {
   "cell_type": "markdown",
   "metadata": {
    "hidden": true
   },
   "source": [
    "## A) Set Up The Recommender Criterias"
   ]
  },
  {
   "cell_type": "markdown",
   "metadata": {
    "hidden": true
   },
   "source": [
    "Dataset geoplaces2.csv will became the main dataset that I use to fit the recommendation system. I consider __7 criterias__ which later on will become the main features to get restaurant recommendation:\n",
    "1. __Alcohol__\n",
    "2. __Smoking Area__\n",
    "3. __Dress Code__\n",
    "4. __Price__\n",
    "5. __Ambience__\n",
    "6. __Area__"
   ]
  },
  {
   "cell_type": "code",
   "execution_count": 36,
   "metadata": {
    "hidden": true
   },
   "outputs": [],
   "source": [
    "resto_profile['criteria'] = resto_profile['city'].str.cat(\n",
    "    resto_profile[['alcohol', 'smoking_area', 'dress_code', 'price', 'Rambience', 'area']],\n",
    "    sep = ' '\n",
    ")"
   ]
  },
  {
   "cell_type": "code",
   "execution_count": 37,
   "metadata": {
    "hidden": true
   },
   "outputs": [
    {
     "data": {
      "text/html": [
       "<div>\n",
       "<style scoped>\n",
       "    .dataframe tbody tr th:only-of-type {\n",
       "        vertical-align: middle;\n",
       "    }\n",
       "\n",
       "    .dataframe tbody tr th {\n",
       "        vertical-align: top;\n",
       "    }\n",
       "\n",
       "    .dataframe thead th {\n",
       "        text-align: right;\n",
       "    }\n",
       "</style>\n",
       "<table border=\"1\" class=\"dataframe\">\n",
       "  <thead>\n",
       "    <tr style=\"text-align: right;\">\n",
       "      <th></th>\n",
       "      <th>placeID</th>\n",
       "      <th>latitude</th>\n",
       "      <th>longitude</th>\n",
       "      <th>name</th>\n",
       "      <th>address</th>\n",
       "      <th>city</th>\n",
       "      <th>state</th>\n",
       "      <th>country</th>\n",
       "      <th>alcohol</th>\n",
       "      <th>smoking_area</th>\n",
       "      <th>dress_code</th>\n",
       "      <th>accessibility</th>\n",
       "      <th>price</th>\n",
       "      <th>Rambience</th>\n",
       "      <th>franchise</th>\n",
       "      <th>area</th>\n",
       "      <th>other_services</th>\n",
       "      <th>criteria</th>\n",
       "    </tr>\n",
       "  </thead>\n",
       "  <tbody>\n",
       "    <tr>\n",
       "      <th>0</th>\n",
       "      <td>134999</td>\n",
       "      <td>18.915421</td>\n",
       "      <td>-99.184871</td>\n",
       "      <td>Kiku Cuernavaca</td>\n",
       "      <td>Revolucion</td>\n",
       "      <td>Cuernavaca</td>\n",
       "      <td>Morelos</td>\n",
       "      <td>Mexico</td>\n",
       "      <td>No_Alcohol_Served</td>\n",
       "      <td>none</td>\n",
       "      <td>informal</td>\n",
       "      <td>no_accessibility</td>\n",
       "      <td>medium</td>\n",
       "      <td>familiar</td>\n",
       "      <td>f</td>\n",
       "      <td>closed</td>\n",
       "      <td>none</td>\n",
       "      <td>Cuernavaca No_Alcohol_Served none informal med...</td>\n",
       "    </tr>\n",
       "    <tr>\n",
       "      <th>1</th>\n",
       "      <td>132825</td>\n",
       "      <td>22.147392</td>\n",
       "      <td>-100.983092</td>\n",
       "      <td>puesto de tacos</td>\n",
       "      <td>esquina santos degollado y leon guzman</td>\n",
       "      <td>San Luis Potosi</td>\n",
       "      <td>San Luis Potosi</td>\n",
       "      <td>Mexico</td>\n",
       "      <td>No_Alcohol_Served</td>\n",
       "      <td>none</td>\n",
       "      <td>informal</td>\n",
       "      <td>completely</td>\n",
       "      <td>low</td>\n",
       "      <td>familiar</td>\n",
       "      <td>f</td>\n",
       "      <td>open</td>\n",
       "      <td>none</td>\n",
       "      <td>San Luis Potosi No_Alcohol_Served none informa...</td>\n",
       "    </tr>\n",
       "    <tr>\n",
       "      <th>2</th>\n",
       "      <td>135106</td>\n",
       "      <td>22.149709</td>\n",
       "      <td>-100.976093</td>\n",
       "      <td>El Rinc�n de San Francisco</td>\n",
       "      <td>Universidad 169</td>\n",
       "      <td>San Luis Potosi</td>\n",
       "      <td>San Luis Potosi</td>\n",
       "      <td>Mexico</td>\n",
       "      <td>Wine-Beer</td>\n",
       "      <td>only at bar</td>\n",
       "      <td>informal</td>\n",
       "      <td>partially</td>\n",
       "      <td>medium</td>\n",
       "      <td>familiar</td>\n",
       "      <td>f</td>\n",
       "      <td>open</td>\n",
       "      <td>none</td>\n",
       "      <td>San Luis Potosi Wine-Beer only at bar informal...</td>\n",
       "    </tr>\n",
       "    <tr>\n",
       "      <th>3</th>\n",
       "      <td>132667</td>\n",
       "      <td>23.752697</td>\n",
       "      <td>-99.163359</td>\n",
       "      <td>little pizza Emilio Portes Gil</td>\n",
       "      <td>calle emilio portes gil</td>\n",
       "      <td>Ciudad Victoria</td>\n",
       "      <td>Tamaulipas</td>\n",
       "      <td>Mexico</td>\n",
       "      <td>No_Alcohol_Served</td>\n",
       "      <td>none</td>\n",
       "      <td>informal</td>\n",
       "      <td>completely</td>\n",
       "      <td>low</td>\n",
       "      <td>familiar</td>\n",
       "      <td>t</td>\n",
       "      <td>closed</td>\n",
       "      <td>none</td>\n",
       "      <td>Ciudad Victoria No_Alcohol_Served none informa...</td>\n",
       "    </tr>\n",
       "    <tr>\n",
       "      <th>4</th>\n",
       "      <td>132613</td>\n",
       "      <td>23.752903</td>\n",
       "      <td>-99.165076</td>\n",
       "      <td>carnitas_mata</td>\n",
       "      <td>lic. Emilio portes gil</td>\n",
       "      <td>Ciudad Victoria</td>\n",
       "      <td>Tamaulipas</td>\n",
       "      <td>Mexico</td>\n",
       "      <td>No_Alcohol_Served</td>\n",
       "      <td>permitted</td>\n",
       "      <td>informal</td>\n",
       "      <td>completely</td>\n",
       "      <td>medium</td>\n",
       "      <td>familiar</td>\n",
       "      <td>t</td>\n",
       "      <td>closed</td>\n",
       "      <td>none</td>\n",
       "      <td>Ciudad Victoria No_Alcohol_Served permitted in...</td>\n",
       "    </tr>\n",
       "  </tbody>\n",
       "</table>\n",
       "</div>"
      ],
      "text/plain": [
       "   placeID   latitude   longitude                            name  \\\n",
       "0   134999  18.915421  -99.184871                 Kiku Cuernavaca   \n",
       "1   132825  22.147392 -100.983092                 puesto de tacos   \n",
       "2   135106  22.149709 -100.976093      El Rinc�n de San Francisco   \n",
       "3   132667  23.752697  -99.163359  little pizza Emilio Portes Gil   \n",
       "4   132613  23.752903  -99.165076                   carnitas_mata   \n",
       "\n",
       "                                  address             city            state  \\\n",
       "0                              Revolucion       Cuernavaca          Morelos   \n",
       "1  esquina santos degollado y leon guzman  San Luis Potosi  San Luis Potosi   \n",
       "2                         Universidad 169  San Luis Potosi  San Luis Potosi   \n",
       "3                 calle emilio portes gil  Ciudad Victoria       Tamaulipas   \n",
       "4                  lic. Emilio portes gil  Ciudad Victoria       Tamaulipas   \n",
       "\n",
       "  country            alcohol smoking_area dress_code     accessibility  \\\n",
       "0  Mexico  No_Alcohol_Served         none   informal  no_accessibility   \n",
       "1  Mexico  No_Alcohol_Served         none   informal        completely   \n",
       "2  Mexico          Wine-Beer  only at bar   informal         partially   \n",
       "3  Mexico  No_Alcohol_Served         none   informal        completely   \n",
       "4  Mexico  No_Alcohol_Served    permitted   informal        completely   \n",
       "\n",
       "    price Rambience franchise    area other_services  \\\n",
       "0  medium  familiar         f  closed           none   \n",
       "1     low  familiar         f    open           none   \n",
       "2  medium  familiar         f    open           none   \n",
       "3     low  familiar         t  closed           none   \n",
       "4  medium  familiar         t  closed           none   \n",
       "\n",
       "                                            criteria  \n",
       "0  Cuernavaca No_Alcohol_Served none informal med...  \n",
       "1  San Luis Potosi No_Alcohol_Served none informa...  \n",
       "2  San Luis Potosi Wine-Beer only at bar informal...  \n",
       "3  Ciudad Victoria No_Alcohol_Served none informa...  \n",
       "4  Ciudad Victoria No_Alcohol_Served permitted in...  "
      ]
     },
     "execution_count": 37,
     "metadata": {},
     "output_type": "execute_result"
    }
   ],
   "source": [
    "resto_profile.head()"
   ]
  },
  {
   "cell_type": "code",
   "execution_count": 38,
   "metadata": {
    "hidden": true
   },
   "outputs": [],
   "source": [
    "# count criterias\n",
    "from sklearn.feature_extraction.text import CountVectorizer\n",
    "model = CountVectorizer(\n",
    "    tokenizer = lambda i: i.split(' '),    # => cari split karakter yg unik\n",
    "    analyzer = 'word'\n",
    ")\n",
    "matrix_criteria = model.fit_transform(resto_profile['criteria'])\n",
    "tipe_criteria = model.get_feature_names()\n",
    "jumlah_criteria = len(tipe_criteria)\n",
    "event_criteria = matrix_criteria.toarray()"
   ]
  },
  {
   "cell_type": "code",
   "execution_count": 39,
   "metadata": {
    "hidden": true
   },
   "outputs": [
    {
     "name": "stdout",
     "output_type": "stream",
     "text": [
      "['at', 'bar', 'casual', 'ciudad', 'closed', 'cuernavaca', 'familiar', 'formal', 'full_bar', 'high', 'informal', 'jiutepec', 'low', 'luis', 'medium', 'no_alcohol_served', 'none', 'not', 'only', 'open', 'permitted', 'potosi', 'quiet', 'san', 'section', 'soledad', 'victoria', 'wine-beer']\n"
     ]
    }
   ],
   "source": [
    "print(tipe_criteria)"
   ]
  },
  {
   "cell_type": "code",
   "execution_count": 40,
   "metadata": {
    "hidden": true
   },
   "outputs": [
    {
     "name": "stdout",
     "output_type": "stream",
     "text": [
      "28\n"
     ]
    }
   ],
   "source": [
    "print(jumlah_criteria)"
   ]
  },
  {
   "cell_type": "code",
   "execution_count": 41,
   "metadata": {
    "hidden": true
   },
   "outputs": [
    {
     "name": "stdout",
     "output_type": "stream",
     "text": [
      "[[0 0 0 ... 0 0 0]\n",
      " [0 0 0 ... 0 0 0]\n",
      " [1 1 0 ... 0 0 1]\n",
      " ...\n",
      " [0 0 0 ... 0 0 1]\n",
      " [0 0 0 ... 0 0 0]\n",
      " [0 0 0 ... 0 0 0]]\n"
     ]
    }
   ],
   "source": [
    "print(event_criteria)"
   ]
  },
  {
   "cell_type": "markdown",
   "metadata": {
    "heading_collapsed": true,
    "hidden": true
   },
   "source": [
    "## B) Make The Cosine Similarity Score"
   ]
  },
  {
   "cell_type": "code",
   "execution_count": 42,
   "metadata": {
    "hidden": true
   },
   "outputs": [
    {
     "data": {
      "text/plain": [
       "array([[1.        , 0.50395263, 0.34188173, ..., 0.35856858, 0.71428571,\n",
       "        0.62994079],\n",
       "       [0.50395263, 1.        , 0.60302269, ..., 0.42163702, 0.62994079,\n",
       "        0.88888889],\n",
       "       [0.34188173, 0.60302269, 1.        , ..., 0.57207755, 0.22792115,\n",
       "        0.50251891],\n",
       "       ...,\n",
       "       [0.35856858, 0.42163702, 0.57207755, ..., 1.        , 0.23904572,\n",
       "        0.52704628],\n",
       "       [0.71428571, 0.62994079, 0.22792115, ..., 0.23904572, 1.        ,\n",
       "        0.75592895],\n",
       "       [0.62994079, 0.88888889, 0.50251891, ..., 0.52704628, 0.75592895,\n",
       "        1.        ]])"
      ]
     },
     "execution_count": 42,
     "metadata": {},
     "output_type": "execute_result"
    }
   ],
   "source": [
    "# cosine similarity\n",
    "from sklearn.metrics.pairwise import cosine_similarity\n",
    "score = cosine_similarity(matrix_criteria)\n",
    "score"
   ]
  },
  {
   "cell_type": "markdown",
   "metadata": {
    "heading_collapsed": true,
    "hidden": true
   },
   "source": [
    "## C) Make Machine Learning Prediction"
   ]
  },
  {
   "cell_type": "markdown",
   "metadata": {
    "hidden": true
   },
   "source": [
    "Make a dummy dataframe to process categorical datas which in criteria features"
   ]
  },
  {
   "cell_type": "code",
   "execution_count": 43,
   "metadata": {
    "hidden": true
   },
   "outputs": [
    {
     "data": {
      "text/html": [
       "<div>\n",
       "<style scoped>\n",
       "    .dataframe tbody tr th:only-of-type {\n",
       "        vertical-align: middle;\n",
       "    }\n",
       "\n",
       "    .dataframe tbody tr th {\n",
       "        vertical-align: top;\n",
       "    }\n",
       "\n",
       "    .dataframe thead th {\n",
       "        text-align: right;\n",
       "    }\n",
       "</style>\n",
       "<table border=\"1\" class=\"dataframe\">\n",
       "  <thead>\n",
       "    <tr style=\"text-align: right;\">\n",
       "      <th></th>\n",
       "      <th>placeID</th>\n",
       "      <th>latitude</th>\n",
       "      <th>longitude</th>\n",
       "      <th>name</th>\n",
       "      <th>address</th>\n",
       "      <th>state</th>\n",
       "      <th>country</th>\n",
       "      <th>accessibility</th>\n",
       "      <th>franchise</th>\n",
       "      <th>other_services</th>\n",
       "      <th>...</th>\n",
       "      <th>smoking_area_not permitted</th>\n",
       "      <th>smoking_area_only at bar</th>\n",
       "      <th>smoking_area_permitted</th>\n",
       "      <th>smoking_area_section</th>\n",
       "      <th>dress_code_formal</th>\n",
       "      <th>dress_code_informal</th>\n",
       "      <th>price_low</th>\n",
       "      <th>price_medium</th>\n",
       "      <th>Rambience_quiet</th>\n",
       "      <th>area_open</th>\n",
       "    </tr>\n",
       "  </thead>\n",
       "  <tbody>\n",
       "    <tr>\n",
       "      <th>0</th>\n",
       "      <td>134999</td>\n",
       "      <td>18.915421</td>\n",
       "      <td>-99.184871</td>\n",
       "      <td>Kiku Cuernavaca</td>\n",
       "      <td>Revolucion</td>\n",
       "      <td>Morelos</td>\n",
       "      <td>Mexico</td>\n",
       "      <td>no_accessibility</td>\n",
       "      <td>f</td>\n",
       "      <td>none</td>\n",
       "      <td>...</td>\n",
       "      <td>0</td>\n",
       "      <td>0</td>\n",
       "      <td>0</td>\n",
       "      <td>0</td>\n",
       "      <td>0</td>\n",
       "      <td>1</td>\n",
       "      <td>0</td>\n",
       "      <td>1</td>\n",
       "      <td>0</td>\n",
       "      <td>0</td>\n",
       "    </tr>\n",
       "    <tr>\n",
       "      <th>1</th>\n",
       "      <td>132825</td>\n",
       "      <td>22.147392</td>\n",
       "      <td>-100.983092</td>\n",
       "      <td>puesto de tacos</td>\n",
       "      <td>esquina santos degollado y leon guzman</td>\n",
       "      <td>San Luis Potosi</td>\n",
       "      <td>Mexico</td>\n",
       "      <td>completely</td>\n",
       "      <td>f</td>\n",
       "      <td>none</td>\n",
       "      <td>...</td>\n",
       "      <td>0</td>\n",
       "      <td>0</td>\n",
       "      <td>0</td>\n",
       "      <td>0</td>\n",
       "      <td>0</td>\n",
       "      <td>1</td>\n",
       "      <td>1</td>\n",
       "      <td>0</td>\n",
       "      <td>0</td>\n",
       "      <td>1</td>\n",
       "    </tr>\n",
       "    <tr>\n",
       "      <th>2</th>\n",
       "      <td>135106</td>\n",
       "      <td>22.149709</td>\n",
       "      <td>-100.976093</td>\n",
       "      <td>El Rinc�n de San Francisco</td>\n",
       "      <td>Universidad 169</td>\n",
       "      <td>San Luis Potosi</td>\n",
       "      <td>Mexico</td>\n",
       "      <td>partially</td>\n",
       "      <td>f</td>\n",
       "      <td>none</td>\n",
       "      <td>...</td>\n",
       "      <td>0</td>\n",
       "      <td>1</td>\n",
       "      <td>0</td>\n",
       "      <td>0</td>\n",
       "      <td>0</td>\n",
       "      <td>1</td>\n",
       "      <td>0</td>\n",
       "      <td>1</td>\n",
       "      <td>0</td>\n",
       "      <td>1</td>\n",
       "    </tr>\n",
       "    <tr>\n",
       "      <th>3</th>\n",
       "      <td>132667</td>\n",
       "      <td>23.752697</td>\n",
       "      <td>-99.163359</td>\n",
       "      <td>little pizza Emilio Portes Gil</td>\n",
       "      <td>calle emilio portes gil</td>\n",
       "      <td>Tamaulipas</td>\n",
       "      <td>Mexico</td>\n",
       "      <td>completely</td>\n",
       "      <td>t</td>\n",
       "      <td>none</td>\n",
       "      <td>...</td>\n",
       "      <td>0</td>\n",
       "      <td>0</td>\n",
       "      <td>0</td>\n",
       "      <td>0</td>\n",
       "      <td>0</td>\n",
       "      <td>1</td>\n",
       "      <td>1</td>\n",
       "      <td>0</td>\n",
       "      <td>0</td>\n",
       "      <td>0</td>\n",
       "    </tr>\n",
       "    <tr>\n",
       "      <th>4</th>\n",
       "      <td>132613</td>\n",
       "      <td>23.752903</td>\n",
       "      <td>-99.165076</td>\n",
       "      <td>carnitas_mata</td>\n",
       "      <td>lic. Emilio portes gil</td>\n",
       "      <td>Tamaulipas</td>\n",
       "      <td>Mexico</td>\n",
       "      <td>completely</td>\n",
       "      <td>t</td>\n",
       "      <td>none</td>\n",
       "      <td>...</td>\n",
       "      <td>0</td>\n",
       "      <td>0</td>\n",
       "      <td>1</td>\n",
       "      <td>0</td>\n",
       "      <td>0</td>\n",
       "      <td>1</td>\n",
       "      <td>0</td>\n",
       "      <td>1</td>\n",
       "      <td>0</td>\n",
       "      <td>0</td>\n",
       "    </tr>\n",
       "  </tbody>\n",
       "</table>\n",
       "<p>5 rows × 27 columns</p>\n",
       "</div>"
      ],
      "text/plain": [
       "   placeID   latitude   longitude                            name  \\\n",
       "0   134999  18.915421  -99.184871                 Kiku Cuernavaca   \n",
       "1   132825  22.147392 -100.983092                 puesto de tacos   \n",
       "2   135106  22.149709 -100.976093      El Rinc�n de San Francisco   \n",
       "3   132667  23.752697  -99.163359  little pizza Emilio Portes Gil   \n",
       "4   132613  23.752903  -99.165076                   carnitas_mata   \n",
       "\n",
       "                                  address            state country  \\\n",
       "0                              Revolucion          Morelos  Mexico   \n",
       "1  esquina santos degollado y leon guzman  San Luis Potosi  Mexico   \n",
       "2                         Universidad 169  San Luis Potosi  Mexico   \n",
       "3                 calle emilio portes gil       Tamaulipas  Mexico   \n",
       "4                  lic. Emilio portes gil       Tamaulipas  Mexico   \n",
       "\n",
       "      accessibility franchise other_services  ... smoking_area_not permitted  \\\n",
       "0  no_accessibility         f           none  ...                          0   \n",
       "1        completely         f           none  ...                          0   \n",
       "2         partially         f           none  ...                          0   \n",
       "3        completely         t           none  ...                          0   \n",
       "4        completely         t           none  ...                          0   \n",
       "\n",
       "   smoking_area_only at bar  smoking_area_permitted  smoking_area_section  \\\n",
       "0                         0                       0                     0   \n",
       "1                         0                       0                     0   \n",
       "2                         1                       0                     0   \n",
       "3                         0                       0                     0   \n",
       "4                         0                       1                     0   \n",
       "\n",
       "   dress_code_formal  dress_code_informal  price_low  price_medium  \\\n",
       "0                  0                    1          0             1   \n",
       "1                  0                    1          1             0   \n",
       "2                  0                    1          0             1   \n",
       "3                  0                    1          1             0   \n",
       "4                  0                    1          0             1   \n",
       "\n",
       "   Rambience_quiet  area_open  \n",
       "0                0          0  \n",
       "1                0          1  \n",
       "2                0          1  \n",
       "3                0          0  \n",
       "4                0          0  \n",
       "\n",
       "[5 rows x 27 columns]"
      ]
     },
     "metadata": {},
     "output_type": "display_data"
    }
   ],
   "source": [
    "resto_profile_dummy = pd.get_dummies(\n",
    "    resto_profile,\n",
    "    columns = ['city', 'alcohol', 'smoking_area', 'dress_code', 'price', 'Rambience', 'area'],\n",
    "    drop_first = True\n",
    ")\n",
    "display(resto_profile_dummy.head())"
   ]
  },
  {
   "cell_type": "markdown",
   "metadata": {
    "hidden": true
   },
   "source": [
    "---"
   ]
  },
  {
   "cell_type": "markdown",
   "metadata": {
    "hidden": true
   },
   "source": [
    "Define the independent and dependent variables"
   ]
  },
  {
   "cell_type": "code",
   "execution_count": 44,
   "metadata": {
    "hidden": true
   },
   "outputs": [
    {
     "data": {
      "text/html": [
       "<div>\n",
       "<style scoped>\n",
       "    .dataframe tbody tr th:only-of-type {\n",
       "        vertical-align: middle;\n",
       "    }\n",
       "\n",
       "    .dataframe tbody tr th {\n",
       "        vertical-align: top;\n",
       "    }\n",
       "\n",
       "    .dataframe thead th {\n",
       "        text-align: right;\n",
       "    }\n",
       "</style>\n",
       "<table border=\"1\" class=\"dataframe\">\n",
       "  <thead>\n",
       "    <tr style=\"text-align: right;\">\n",
       "      <th></th>\n",
       "      <th>city_Cuernavaca</th>\n",
       "      <th>city_Jiutepec</th>\n",
       "      <th>city_San Luis Potosi</th>\n",
       "      <th>city_Soledad</th>\n",
       "      <th>alcohol_No_Alcohol_Served</th>\n",
       "      <th>alcohol_Wine-Beer</th>\n",
       "      <th>smoking_area_not permitted</th>\n",
       "      <th>smoking_area_only at bar</th>\n",
       "      <th>smoking_area_permitted</th>\n",
       "      <th>smoking_area_section</th>\n",
       "      <th>dress_code_formal</th>\n",
       "      <th>dress_code_informal</th>\n",
       "      <th>price_low</th>\n",
       "      <th>price_medium</th>\n",
       "      <th>Rambience_quiet</th>\n",
       "      <th>area_open</th>\n",
       "    </tr>\n",
       "  </thead>\n",
       "  <tbody>\n",
       "    <tr>\n",
       "      <th>0</th>\n",
       "      <td>1</td>\n",
       "      <td>0</td>\n",
       "      <td>0</td>\n",
       "      <td>0</td>\n",
       "      <td>1</td>\n",
       "      <td>0</td>\n",
       "      <td>0</td>\n",
       "      <td>0</td>\n",
       "      <td>0</td>\n",
       "      <td>0</td>\n",
       "      <td>0</td>\n",
       "      <td>1</td>\n",
       "      <td>0</td>\n",
       "      <td>1</td>\n",
       "      <td>0</td>\n",
       "      <td>0</td>\n",
       "    </tr>\n",
       "    <tr>\n",
       "      <th>1</th>\n",
       "      <td>0</td>\n",
       "      <td>0</td>\n",
       "      <td>1</td>\n",
       "      <td>0</td>\n",
       "      <td>1</td>\n",
       "      <td>0</td>\n",
       "      <td>0</td>\n",
       "      <td>0</td>\n",
       "      <td>0</td>\n",
       "      <td>0</td>\n",
       "      <td>0</td>\n",
       "      <td>1</td>\n",
       "      <td>1</td>\n",
       "      <td>0</td>\n",
       "      <td>0</td>\n",
       "      <td>1</td>\n",
       "    </tr>\n",
       "    <tr>\n",
       "      <th>2</th>\n",
       "      <td>0</td>\n",
       "      <td>0</td>\n",
       "      <td>1</td>\n",
       "      <td>0</td>\n",
       "      <td>0</td>\n",
       "      <td>1</td>\n",
       "      <td>0</td>\n",
       "      <td>1</td>\n",
       "      <td>0</td>\n",
       "      <td>0</td>\n",
       "      <td>0</td>\n",
       "      <td>1</td>\n",
       "      <td>0</td>\n",
       "      <td>1</td>\n",
       "      <td>0</td>\n",
       "      <td>1</td>\n",
       "    </tr>\n",
       "    <tr>\n",
       "      <th>3</th>\n",
       "      <td>0</td>\n",
       "      <td>0</td>\n",
       "      <td>0</td>\n",
       "      <td>0</td>\n",
       "      <td>1</td>\n",
       "      <td>0</td>\n",
       "      <td>0</td>\n",
       "      <td>0</td>\n",
       "      <td>0</td>\n",
       "      <td>0</td>\n",
       "      <td>0</td>\n",
       "      <td>1</td>\n",
       "      <td>1</td>\n",
       "      <td>0</td>\n",
       "      <td>0</td>\n",
       "      <td>0</td>\n",
       "    </tr>\n",
       "    <tr>\n",
       "      <th>4</th>\n",
       "      <td>0</td>\n",
       "      <td>0</td>\n",
       "      <td>0</td>\n",
       "      <td>0</td>\n",
       "      <td>1</td>\n",
       "      <td>0</td>\n",
       "      <td>0</td>\n",
       "      <td>0</td>\n",
       "      <td>1</td>\n",
       "      <td>0</td>\n",
       "      <td>0</td>\n",
       "      <td>1</td>\n",
       "      <td>0</td>\n",
       "      <td>1</td>\n",
       "      <td>0</td>\n",
       "      <td>0</td>\n",
       "    </tr>\n",
       "  </tbody>\n",
       "</table>\n",
       "</div>"
      ],
      "text/plain": [
       "   city_Cuernavaca  city_Jiutepec  city_San Luis Potosi  city_Soledad  \\\n",
       "0                1              0                     0             0   \n",
       "1                0              0                     1             0   \n",
       "2                0              0                     1             0   \n",
       "3                0              0                     0             0   \n",
       "4                0              0                     0             0   \n",
       "\n",
       "   alcohol_No_Alcohol_Served  alcohol_Wine-Beer  smoking_area_not permitted  \\\n",
       "0                          1                  0                           0   \n",
       "1                          1                  0                           0   \n",
       "2                          0                  1                           0   \n",
       "3                          1                  0                           0   \n",
       "4                          1                  0                           0   \n",
       "\n",
       "   smoking_area_only at bar  smoking_area_permitted  smoking_area_section  \\\n",
       "0                         0                       0                     0   \n",
       "1                         0                       0                     0   \n",
       "2                         1                       0                     0   \n",
       "3                         0                       0                     0   \n",
       "4                         0                       1                     0   \n",
       "\n",
       "   dress_code_formal  dress_code_informal  price_low  price_medium  \\\n",
       "0                  0                    1          0             1   \n",
       "1                  0                    1          1             0   \n",
       "2                  0                    1          0             1   \n",
       "3                  0                    1          1             0   \n",
       "4                  0                    1          0             1   \n",
       "\n",
       "   Rambience_quiet  area_open  \n",
       "0                0          0  \n",
       "1                0          1  \n",
       "2                0          1  \n",
       "3                0          0  \n",
       "4                0          0  "
      ]
     },
     "metadata": {},
     "output_type": "display_data"
    }
   ],
   "source": [
    "X = resto_profile_dummy.drop(\n",
    "    ['placeID', 'latitude', 'longitude', 'name', 'address', 'state', 'country', 'accessibility',\n",
    "    'franchise', 'other_services', 'criteria'], axis = 1\n",
    ")\n",
    "display(X.head())"
   ]
  },
  {
   "cell_type": "code",
   "execution_count": 45,
   "metadata": {
    "hidden": true
   },
   "outputs": [
    {
     "data": {
      "text/plain": [
       "0                   Kiku Cuernavaca\n",
       "1                   puesto de tacos\n",
       "2        El Rinc�n de San Francisco\n",
       "3    little pizza Emilio Portes Gil\n",
       "4                     carnitas_mata\n",
       "Name: name, dtype: object"
      ]
     },
     "metadata": {},
     "output_type": "display_data"
    }
   ],
   "source": [
    "y = resto_profile_dummy['name']\n",
    "display(y.head())"
   ]
  },
  {
   "cell_type": "markdown",
   "metadata": {
    "hidden": true
   },
   "source": [
    "---"
   ]
  },
  {
   "cell_type": "markdown",
   "metadata": {
    "hidden": true
   },
   "source": [
    "Time to proceed the Machine Learning, I'd like to try several Classifier Machine Learning method and then compare the accuracy score and its prediction results.\n",
    "\n",
    "In this case, I __don't split the datas for train and test__ due to I want this ML can train 100% from this resto_profile dataset, and the prediction later on will be coming from other users.\n",
    "\n",
    "For now, let this ML predict the restaurant Name from the following criterias:\n",
    "1. __City = Cuernavaca__\n",
    "2. __Alcohol = No_Alcohol_Served__\n",
    "3. __Smoking Area = none__\n",
    "4. __Dresscode = informal__\n",
    "5. __Price = medium__\n",
    "6. __Ambience = familiar__\n",
    "7. __Area = closed__"
   ]
  },
  {
   "cell_type": "code",
   "execution_count": 46,
   "metadata": {
    "hidden": true
   },
   "outputs": [
    {
     "name": "stdout",
     "output_type": "stream",
     "text": [
      "Accuracy = 40.77%\n",
      "Arrachela Grill\n"
     ]
    }
   ],
   "source": [
    "# logistic regression model\n",
    "from sklearn.linear_model import LogisticRegression\n",
    "log_reg = LogisticRegression(solver = 'liblinear', multi_class = 'auto')\n",
    "log_reg.fit(X, y)\n",
    "\n",
    "# scoring model\n",
    "print('Accuracy = {}%'.format(round(log_reg.score(X, y) * 100, 2)))\n",
    "\n",
    "# prediction\n",
    "print(log_reg.predict([[1,0,0,0,1,0,0,0,0,0,0,1,0,1,0,0]])[0])"
   ]
  },
  {
   "cell_type": "code",
   "execution_count": 47,
   "metadata": {
    "hidden": true
   },
   "outputs": [
    {
     "name": "stdout",
     "output_type": "stream",
     "text": [
      "Accuracy = 40.77%\n",
      "Restaurant los Pinos\n"
     ]
    }
   ],
   "source": [
    "# kernel svm model\n",
    "from sklearn.svm import SVC\n",
    "svm = SVC(kernel = 'rbf', gamma = 0.5)\n",
    "svm.fit(X, y)\n",
    "\n",
    "# scoring model\n",
    "print('Accuracy = {}%'.format(round(svm.score(X, y) * 100, 2)))\n",
    "\n",
    "# prediction\n",
    "print(svm.predict([[1,0,0,0,1,0,0,0,0,0,0,1,0,1,0,0]])[0])"
   ]
  },
  {
   "cell_type": "code",
   "execution_count": 48,
   "metadata": {
    "hidden": true
   },
   "outputs": [
    {
     "name": "stdout",
     "output_type": "stream",
     "text": [
      "Accuracy = 43.08%\n",
      "Arrachela Grill\n"
     ]
    }
   ],
   "source": [
    "# naive bayes model\n",
    "from sklearn.naive_bayes import GaussianNB\n",
    "gnb = GaussianNB()\n",
    "gnb.fit(X, y)\n",
    "\n",
    "# scoring model\n",
    "print('Accuracy = {}%'.format(round(gnb.score(X, y) * 100, 2)))\n",
    "\n",
    "# prediction\n",
    "print(gnb.predict([[1,0,0,0,1,0,0,0,0,0,0,1,0,1,0,0]])[0])"
   ]
  },
  {
   "cell_type": "code",
   "execution_count": 49,
   "metadata": {
    "hidden": true
   },
   "outputs": [
    {
     "name": "stdout",
     "output_type": "stream",
     "text": [
      "Accuracy = 43.08%\n",
      "Arrachela Grill\n"
     ]
    }
   ],
   "source": [
    "# decision tree classifier\n",
    "from sklearn.tree import DecisionTreeClassifier\n",
    "dct_clf = DecisionTreeClassifier(criterion = 'entropy')\n",
    "dct_clf.fit(X, y)\n",
    "\n",
    "# scoring model\n",
    "print('Accuracy = {}%'.format(round(dct_clf.score(X, y) * 100, 2)))\n",
    "\n",
    "# prediction\n",
    "print(dct_clf.predict([[1,0,0,0,1,0,0,0,0,0,0,1,0,1,0,0]])[0])"
   ]
  },
  {
   "cell_type": "code",
   "execution_count": 50,
   "metadata": {
    "hidden": true
   },
   "outputs": [
    {
     "name": "stdout",
     "output_type": "stream",
     "text": [
      "Accuracy = 43.08%\n",
      "Arrachela Grill\n"
     ]
    }
   ],
   "source": [
    "# random forest model\n",
    "from sklearn.ensemble import RandomForestClassifier\n",
    "rf_clf = RandomForestClassifier(n_estimators = 25, criterion = 'entropy')\n",
    "rf_clf.fit(X, y)\n",
    "\n",
    "# scoring model\n",
    "print('Accuracy = {}%'.format(round(rf_clf.score(X, y) * 100, 2)))\n",
    "\n",
    "# prediction\n",
    "print(rf_clf.predict([[1,0,0,0,1,0,0,0,0,0,0,1,0,1,0,0]])[0])"
   ]
  },
  {
   "cell_type": "markdown",
   "metadata": {
    "hidden": true
   },
   "source": [
    "---"
   ]
  },
  {
   "cell_type": "markdown",
   "metadata": {
    "hidden": true
   },
   "source": [
    "From all of classifier methods, looks like the __accuracy score still below < 50%__, and based on the prediction it gives 3 different names of Restaurant:\n",
    "1. __Kiku Cuernavaca__\n",
    "2. __Arrachela Grill__\n",
    "3. __Restaurant los Pinos__\n",
    "\n",
    "We would check if those Restaurants have same criterias with our input before"
   ]
  },
  {
   "cell_type": "code",
   "execution_count": 51,
   "metadata": {
    "hidden": true
   },
   "outputs": [
    {
     "data": {
      "text/html": [
       "<div>\n",
       "<style scoped>\n",
       "    .dataframe tbody tr th:only-of-type {\n",
       "        vertical-align: middle;\n",
       "    }\n",
       "\n",
       "    .dataframe tbody tr th {\n",
       "        vertical-align: top;\n",
       "    }\n",
       "\n",
       "    .dataframe thead th {\n",
       "        text-align: right;\n",
       "    }\n",
       "</style>\n",
       "<table border=\"1\" class=\"dataframe\">\n",
       "  <thead>\n",
       "    <tr style=\"text-align: right;\">\n",
       "      <th></th>\n",
       "      <th>placeID</th>\n",
       "      <th>latitude</th>\n",
       "      <th>longitude</th>\n",
       "      <th>name</th>\n",
       "      <th>address</th>\n",
       "      <th>city</th>\n",
       "      <th>state</th>\n",
       "      <th>country</th>\n",
       "      <th>alcohol</th>\n",
       "      <th>smoking_area</th>\n",
       "      <th>dress_code</th>\n",
       "      <th>accessibility</th>\n",
       "      <th>price</th>\n",
       "      <th>Rambience</th>\n",
       "      <th>franchise</th>\n",
       "      <th>area</th>\n",
       "      <th>other_services</th>\n",
       "      <th>criteria</th>\n",
       "    </tr>\n",
       "  </thead>\n",
       "  <tbody>\n",
       "    <tr>\n",
       "      <th>0</th>\n",
       "      <td>134999</td>\n",
       "      <td>18.915421</td>\n",
       "      <td>-99.184871</td>\n",
       "      <td>Kiku Cuernavaca</td>\n",
       "      <td>Revolucion</td>\n",
       "      <td>Cuernavaca</td>\n",
       "      <td>Morelos</td>\n",
       "      <td>Mexico</td>\n",
       "      <td>No_Alcohol_Served</td>\n",
       "      <td>none</td>\n",
       "      <td>informal</td>\n",
       "      <td>no_accessibility</td>\n",
       "      <td>medium</td>\n",
       "      <td>familiar</td>\n",
       "      <td>f</td>\n",
       "      <td>closed</td>\n",
       "      <td>none</td>\n",
       "      <td>Cuernavaca No_Alcohol_Served none informal med...</td>\n",
       "    </tr>\n",
       "  </tbody>\n",
       "</table>\n",
       "</div>"
      ],
      "text/plain": [
       "   placeID   latitude  longitude             name     address        city  \\\n",
       "0   134999  18.915421 -99.184871  Kiku Cuernavaca  Revolucion  Cuernavaca   \n",
       "\n",
       "     state country            alcohol smoking_area dress_code  \\\n",
       "0  Morelos  Mexico  No_Alcohol_Served         none   informal   \n",
       "\n",
       "      accessibility   price Rambience franchise    area other_services  \\\n",
       "0  no_accessibility  medium  familiar         f  closed           none   \n",
       "\n",
       "                                            criteria  \n",
       "0  Cuernavaca No_Alcohol_Served none informal med...  "
      ]
     },
     "metadata": {},
     "output_type": "display_data"
    },
    {
     "data": {
      "text/html": [
       "<div>\n",
       "<style scoped>\n",
       "    .dataframe tbody tr th:only-of-type {\n",
       "        vertical-align: middle;\n",
       "    }\n",
       "\n",
       "    .dataframe tbody tr th {\n",
       "        vertical-align: top;\n",
       "    }\n",
       "\n",
       "    .dataframe thead th {\n",
       "        text-align: right;\n",
       "    }\n",
       "</style>\n",
       "<table border=\"1\" class=\"dataframe\">\n",
       "  <thead>\n",
       "    <tr style=\"text-align: right;\">\n",
       "      <th></th>\n",
       "      <th>placeID</th>\n",
       "      <th>latitude</th>\n",
       "      <th>longitude</th>\n",
       "      <th>name</th>\n",
       "      <th>address</th>\n",
       "      <th>city</th>\n",
       "      <th>state</th>\n",
       "      <th>country</th>\n",
       "      <th>alcohol</th>\n",
       "      <th>smoking_area</th>\n",
       "      <th>dress_code</th>\n",
       "      <th>accessibility</th>\n",
       "      <th>price</th>\n",
       "      <th>Rambience</th>\n",
       "      <th>franchise</th>\n",
       "      <th>area</th>\n",
       "      <th>other_services</th>\n",
       "      <th>criteria</th>\n",
       "    </tr>\n",
       "  </thead>\n",
       "  <tbody>\n",
       "    <tr>\n",
       "      <th>71</th>\n",
       "      <td>135016</td>\n",
       "      <td>18.869347</td>\n",
       "      <td>-99.209944</td>\n",
       "      <td>Arrachela Grill</td>\n",
       "      <td>69 Tres De Mayo</td>\n",
       "      <td>Cuernavaca</td>\n",
       "      <td>Morelos</td>\n",
       "      <td>Mexico</td>\n",
       "      <td>No_Alcohol_Served</td>\n",
       "      <td>none</td>\n",
       "      <td>informal</td>\n",
       "      <td>no_accessibility</td>\n",
       "      <td>medium</td>\n",
       "      <td>familiar</td>\n",
       "      <td>f</td>\n",
       "      <td>closed</td>\n",
       "      <td>none</td>\n",
       "      <td>Cuernavaca No_Alcohol_Served none informal med...</td>\n",
       "    </tr>\n",
       "  </tbody>\n",
       "</table>\n",
       "</div>"
      ],
      "text/plain": [
       "    placeID   latitude  longitude             name          address  \\\n",
       "71   135016  18.869347 -99.209944  Arrachela Grill  69 Tres De Mayo   \n",
       "\n",
       "          city    state country            alcohol smoking_area dress_code  \\\n",
       "71  Cuernavaca  Morelos  Mexico  No_Alcohol_Served         none   informal   \n",
       "\n",
       "       accessibility   price Rambience franchise    area other_services  \\\n",
       "71  no_accessibility  medium  familiar         f  closed           none   \n",
       "\n",
       "                                             criteria  \n",
       "71  Cuernavaca No_Alcohol_Served none informal med...  "
      ]
     },
     "metadata": {},
     "output_type": "display_data"
    },
    {
     "data": {
      "text/html": [
       "<div>\n",
       "<style scoped>\n",
       "    .dataframe tbody tr th:only-of-type {\n",
       "        vertical-align: middle;\n",
       "    }\n",
       "\n",
       "    .dataframe tbody tr th {\n",
       "        vertical-align: top;\n",
       "    }\n",
       "\n",
       "    .dataframe thead th {\n",
       "        text-align: right;\n",
       "    }\n",
       "</style>\n",
       "<table border=\"1\" class=\"dataframe\">\n",
       "  <thead>\n",
       "    <tr style=\"text-align: right;\">\n",
       "      <th></th>\n",
       "      <th>placeID</th>\n",
       "      <th>latitude</th>\n",
       "      <th>longitude</th>\n",
       "      <th>name</th>\n",
       "      <th>address</th>\n",
       "      <th>city</th>\n",
       "      <th>state</th>\n",
       "      <th>country</th>\n",
       "      <th>alcohol</th>\n",
       "      <th>smoking_area</th>\n",
       "      <th>dress_code</th>\n",
       "      <th>accessibility</th>\n",
       "      <th>price</th>\n",
       "      <th>Rambience</th>\n",
       "      <th>franchise</th>\n",
       "      <th>area</th>\n",
       "      <th>other_services</th>\n",
       "      <th>criteria</th>\n",
       "    </tr>\n",
       "  </thead>\n",
       "  <tbody>\n",
       "    <tr>\n",
       "      <th>51</th>\n",
       "      <td>135000</td>\n",
       "      <td>18.870565</td>\n",
       "      <td>-99.226938</td>\n",
       "      <td>Restaurant los Pinos</td>\n",
       "      <td>Federal Mexico - Acapulco 10 3 de Mayo</td>\n",
       "      <td>Cuernavaca</td>\n",
       "      <td>Morelos</td>\n",
       "      <td>Mexico</td>\n",
       "      <td>No_Alcohol_Served</td>\n",
       "      <td>none</td>\n",
       "      <td>informal</td>\n",
       "      <td>no_accessibility</td>\n",
       "      <td>medium</td>\n",
       "      <td>familiar</td>\n",
       "      <td>f</td>\n",
       "      <td>closed</td>\n",
       "      <td>none</td>\n",
       "      <td>Cuernavaca No_Alcohol_Served none informal med...</td>\n",
       "    </tr>\n",
       "  </tbody>\n",
       "</table>\n",
       "</div>"
      ],
      "text/plain": [
       "    placeID   latitude  longitude                  name  \\\n",
       "51   135000  18.870565 -99.226938  Restaurant los Pinos   \n",
       "\n",
       "                                   address        city    state country  \\\n",
       "51  Federal Mexico - Acapulco 10 3 de Mayo  Cuernavaca  Morelos  Mexico   \n",
       "\n",
       "              alcohol smoking_area dress_code     accessibility   price  \\\n",
       "51  No_Alcohol_Served         none   informal  no_accessibility  medium   \n",
       "\n",
       "   Rambience franchise    area other_services  \\\n",
       "51  familiar         f  closed           none   \n",
       "\n",
       "                                             criteria  \n",
       "51  Cuernavaca No_Alcohol_Served none informal med...  "
      ]
     },
     "metadata": {},
     "output_type": "display_data"
    }
   ],
   "source": [
    "display(resto_profile[resto_profile['name'] == 'Kiku Cuernavaca'])\n",
    "display(resto_profile[resto_profile['name'] == 'Arrachela Grill'])\n",
    "display(resto_profile[resto_profile['name'] == 'Restaurant los Pinos'])"
   ]
  },
  {
   "cell_type": "markdown",
   "metadata": {
    "hidden": true
   },
   "source": [
    "## D) Get The Recommendation System from Prediction"
   ]
  },
  {
   "cell_type": "markdown",
   "metadata": {
    "hidden": true
   },
   "source": [
    "From the prediction (I choose Random Forest Classifier), then we can get the top 5 restaurant recommendation which has cosine similarity > 75%"
   ]
  },
  {
   "cell_type": "code",
   "execution_count": 52,
   "metadata": {
    "hidden": true
   },
   "outputs": [
    {
     "data": {
      "text/html": [
       "<div>\n",
       "<style scoped>\n",
       "    .dataframe tbody tr th:only-of-type {\n",
       "        vertical-align: middle;\n",
       "    }\n",
       "\n",
       "    .dataframe tbody tr th {\n",
       "        vertical-align: top;\n",
       "    }\n",
       "\n",
       "    .dataframe thead th {\n",
       "        text-align: right;\n",
       "    }\n",
       "</style>\n",
       "<table border=\"1\" class=\"dataframe\">\n",
       "  <thead>\n",
       "    <tr style=\"text-align: right;\">\n",
       "      <th></th>\n",
       "      <th>placeID</th>\n",
       "      <th>latitude</th>\n",
       "      <th>longitude</th>\n",
       "      <th>name</th>\n",
       "      <th>address</th>\n",
       "      <th>city</th>\n",
       "      <th>state</th>\n",
       "      <th>country</th>\n",
       "      <th>alcohol</th>\n",
       "      <th>smoking_area</th>\n",
       "      <th>dress_code</th>\n",
       "      <th>accessibility</th>\n",
       "      <th>price</th>\n",
       "      <th>Rambience</th>\n",
       "      <th>franchise</th>\n",
       "      <th>area</th>\n",
       "      <th>other_services</th>\n",
       "      <th>criteria</th>\n",
       "    </tr>\n",
       "  </thead>\n",
       "  <tbody>\n",
       "    <tr>\n",
       "      <th>71</th>\n",
       "      <td>135016</td>\n",
       "      <td>18.869347</td>\n",
       "      <td>-99.209944</td>\n",
       "      <td>Arrachela Grill</td>\n",
       "      <td>69 Tres De Mayo</td>\n",
       "      <td>Cuernavaca</td>\n",
       "      <td>Morelos</td>\n",
       "      <td>Mexico</td>\n",
       "      <td>No_Alcohol_Served</td>\n",
       "      <td>none</td>\n",
       "      <td>informal</td>\n",
       "      <td>no_accessibility</td>\n",
       "      <td>medium</td>\n",
       "      <td>familiar</td>\n",
       "      <td>f</td>\n",
       "      <td>closed</td>\n",
       "      <td>none</td>\n",
       "      <td>Cuernavaca No_Alcohol_Served none informal med...</td>\n",
       "    </tr>\n",
       "  </tbody>\n",
       "</table>\n",
       "</div>"
      ],
      "text/plain": [
       "    placeID   latitude  longitude             name          address  \\\n",
       "71   135016  18.869347 -99.209944  Arrachela Grill  69 Tres De Mayo   \n",
       "\n",
       "          city    state country            alcohol smoking_area dress_code  \\\n",
       "71  Cuernavaca  Morelos  Mexico  No_Alcohol_Served         none   informal   \n",
       "\n",
       "       accessibility   price Rambience franchise    area other_services  \\\n",
       "71  no_accessibility  medium  familiar         f  closed           none   \n",
       "\n",
       "                                             criteria  \n",
       "71  Cuernavaca No_Alcohol_Served none informal med...  "
      ]
     },
     "metadata": {},
     "output_type": "display_data"
    }
   ],
   "source": [
    "# test model\n",
    "resto_fav = rf_clf.predict([[1,0,0,0,1,0,0,0,0,0,0,1,0,1,0,0]])[0]\n",
    "# resto_fav = 'Kiku Cuernavaca'\n",
    "display(resto_profile[resto_profile['name'] == resto_fav])\n",
    "\n",
    "# take the index from resto_fav\n",
    "index_fav = resto_profile[resto_profile['name'] == resto_fav].index.values[0]\n",
    "# print(index_fav)\n",
    "\n",
    "# list all restuarants + cosine similarity score\n",
    "all_resto = list(enumerate(score[index_fav]))\n",
    "# print(all_resto)\n",
    "\n",
    "# show similar restaurant, sorted by score\n",
    "resto_similar = sorted(\n",
    "    all_resto,\n",
    "    key = lambda i: i[1],\n",
    "    reverse = True\n",
    ")\n",
    "# print(resto_similar)"
   ]
  },
  {
   "cell_type": "code",
   "execution_count": 53,
   "metadata": {
    "hidden": true
   },
   "outputs": [
    {
     "name": "stdout",
     "output_type": "stream",
     "text": [
      "Resto = Vips | City = Cuernavaca | Alcohol = Wine-Beer | Smoking Area = none | Dress Code = informal | Price = medium | Ambience = familiar | Area = closed\n",
      "Resto = la perica hamburguesa | City = Ciudad Victoria | Alcohol = No_Alcohol_Served | Smoking Area = none | Dress Code = informal | Price = medium | Ambience = familiar | Area = closed\n",
      "Resto = Chilis Cuernavaca | City = Cuernavaca | Alcohol = Wine-Beer | Smoking Area = none | Dress Code = informal | Price = medium | Ambience = familiar | Area = closed\n",
      "Resto = Mikasa | City = Cuernavaca | Alcohol = Wine-Beer | Smoking Area = none | Dress Code = informal | Price = medium | Ambience = familiar | Area = closed\n",
      "Resto = Vips | City = Cuernavaca | Alcohol = Wine-Beer | Smoking Area = none | Dress Code = informal | Price = medium | Ambience = familiar | Area = closed\n"
     ]
    }
   ],
   "source": [
    "# list all resto filter by cosine similarity score > 80%\n",
    "resto_recom = []\n",
    "for i in resto_similar:\n",
    "    if i[1] > 0.8:\n",
    "        resto_recom.append(i)\n",
    "    else:\n",
    "        pass\n",
    "\n",
    "# show 5 datas randomly\n",
    "import random\n",
    "rekomendasi = random.choices(resto_recom, k = 5)\n",
    "\n",
    "for i in rekomendasi:\n",
    "    print('Resto = {} | City = {} | Alcohol = {} | Smoking Area = {} | Dress Code = {} | Price = {} | Ambience = {} | Area = {}'.format(\n",
    "        resto_profile.iloc[i[0]]['name'],\n",
    "        resto_profile.iloc[i[0]]['city'],\n",
    "        resto_profile.iloc[i[0]]['alcohol'],\n",
    "        resto_profile.iloc[i[0]]['smoking_area'],\n",
    "        resto_profile.iloc[i[0]]['dress_code'],\n",
    "        resto_profile.iloc[i[0]]['price'],\n",
    "        resto_profile.iloc[i[0]]['Rambience'],\n",
    "        resto_profile.iloc[i[0]]['area'])\n",
    "    )\n",
    "\n",
    "# list_rekom = []\n",
    "# for i in rekomendasi:\n",
    "#     list_rekom.append([\n",
    "#         resto_profile.iloc[i[0]]['name'],\n",
    "#         resto_profile.iloc[i[0]]['city'],\n",
    "#         resto_profile.iloc[i[0]]['alcohol'],\n",
    "#         resto_profile.iloc[i[0]]['smoking_area'],\n",
    "#         resto_profile.iloc[i[0]]['dress_code'],\n",
    "#         resto_profile.iloc[i[0]]['price'],\n",
    "#         resto_profile.iloc[i[0]]['Rambience'],\n",
    "#         resto_profile.iloc[i[0]]['area']]\n",
    "#     )\n",
    "# print(list_rekom)"
   ]
  },
  {
   "cell_type": "markdown",
   "metadata": {
    "hidden": true
   },
   "source": [
    "### Save Random Forest Classifier Model"
   ]
  },
  {
   "cell_type": "code",
   "execution_count": 55,
   "metadata": {
    "hidden": true
   },
   "outputs": [
    {
     "data": {
      "text/plain": [
       "['model_restaurant']"
      ]
     },
     "execution_count": 55,
     "metadata": {},
     "output_type": "execute_result"
    }
   ],
   "source": [
    "import joblib\n",
    "joblib.dump(rf_clf,'model_restaurant')"
   ]
  },
  {
   "cell_type": "code",
   "execution_count": null,
   "metadata": {
    "hidden": true
   },
   "outputs": [],
   "source": []
  }
 ],
 "metadata": {
  "kernelspec": {
   "display_name": "Python 3",
   "language": "python",
   "name": "python3"
  },
  "language_info": {
   "codemirror_mode": {
    "name": "ipython",
    "version": 3
   },
   "file_extension": ".py",
   "mimetype": "text/x-python",
   "name": "python",
   "nbconvert_exporter": "python",
   "pygments_lexer": "ipython3",
   "version": "3.7.3"
  },
  "toc": {
   "base_numbering": 1,
   "nav_menu": {},
   "number_sections": true,
   "sideBar": true,
   "skip_h1_title": false,
   "title_cell": "Table of Contents",
   "title_sidebar": "Contents",
   "toc_cell": false,
   "toc_position": {},
   "toc_section_display": true,
   "toc_window_display": false
  }
 },
 "nbformat": 4,
 "nbformat_minor": 2
}
